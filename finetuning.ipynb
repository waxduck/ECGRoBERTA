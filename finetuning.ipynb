{
 "cells": [
  {
   "cell_type": "code",
   "execution_count": 1,
   "id": "1a69af9d",
   "metadata": {
    "execution": {
     "iopub.execute_input": "2025-06-20T06:02:18.607813Z",
     "iopub.status.busy": "2025-06-20T06:02:18.607561Z",
     "iopub.status.idle": "2025-06-20T06:02:23.095045Z",
     "shell.execute_reply": "2025-06-20T06:02:23.094347Z"
    },
    "papermill": {
     "duration": 4.499582,
     "end_time": "2025-06-20T06:02:23.096440",
     "exception": false,
     "start_time": "2025-06-20T06:02:18.596858",
     "status": "completed"
    },
    "tags": []
   },
   "outputs": [
    {
     "name": "stdout",
     "output_type": "stream",
     "text": [
      "Collecting neurokit2\r\n",
      "  Downloading neurokit2-0.2.11-py2.py3-none-any.whl.metadata (37 kB)\r\n",
      "Requirement already satisfied: requests in /usr/local/lib/python3.11/dist-packages (from neurokit2) (2.32.3)\r\n",
      "Requirement already satisfied: numpy in /usr/local/lib/python3.11/dist-packages (from neurokit2) (1.26.4)\r\n",
      "Requirement already satisfied: pandas in /usr/local/lib/python3.11/dist-packages (from neurokit2) (2.2.3)\r\n",
      "Requirement already satisfied: scipy in /usr/local/lib/python3.11/dist-packages (from neurokit2) (1.15.2)\r\n",
      "Requirement already satisfied: scikit-learn>=1.0.0 in /usr/local/lib/python3.11/dist-packages (from neurokit2) (1.2.2)\r\n",
      "Requirement already satisfied: matplotlib>=3.5.0 in /usr/local/lib/python3.11/dist-packages (from neurokit2) (3.7.5)\r\n",
      "Requirement already satisfied: contourpy>=1.0.1 in /usr/local/lib/python3.11/dist-packages (from matplotlib>=3.5.0->neurokit2) (1.3.1)\r\n",
      "Requirement already satisfied: cycler>=0.10 in /usr/local/lib/python3.11/dist-packages (from matplotlib>=3.5.0->neurokit2) (0.12.1)\r\n",
      "Requirement already satisfied: fonttools>=4.22.0 in /usr/local/lib/python3.11/dist-packages (from matplotlib>=3.5.0->neurokit2) (4.56.0)\r\n",
      "Requirement already satisfied: kiwisolver>=1.0.1 in /usr/local/lib/python3.11/dist-packages (from matplotlib>=3.5.0->neurokit2) (1.4.8)\r\n",
      "Requirement already satisfied: packaging>=20.0 in /usr/local/lib/python3.11/dist-packages (from matplotlib>=3.5.0->neurokit2) (24.2)\r\n",
      "Requirement already satisfied: pillow>=6.2.0 in /usr/local/lib/python3.11/dist-packages (from matplotlib>=3.5.0->neurokit2) (11.1.0)\r\n",
      "Requirement already satisfied: pyparsing>=2.3.1 in /usr/local/lib/python3.11/dist-packages (from matplotlib>=3.5.0->neurokit2) (3.2.1)\r\n",
      "Requirement already satisfied: python-dateutil>=2.7 in /usr/local/lib/python3.11/dist-packages (from matplotlib>=3.5.0->neurokit2) (2.9.0.post0)\r\n",
      "Requirement already satisfied: mkl_fft in /usr/local/lib/python3.11/dist-packages (from numpy->neurokit2) (1.3.8)\r\n",
      "Requirement already satisfied: mkl_random in /usr/local/lib/python3.11/dist-packages (from numpy->neurokit2) (1.2.4)\r\n",
      "Requirement already satisfied: mkl_umath in /usr/local/lib/python3.11/dist-packages (from numpy->neurokit2) (0.1.1)\r\n",
      "Requirement already satisfied: mkl in /usr/local/lib/python3.11/dist-packages (from numpy->neurokit2) (2025.1.0)\r\n",
      "Requirement already satisfied: tbb4py in /usr/local/lib/python3.11/dist-packages (from numpy->neurokit2) (2022.1.0)\r\n",
      "Requirement already satisfied: mkl-service in /usr/local/lib/python3.11/dist-packages (from numpy->neurokit2) (2.4.1)\r\n",
      "Requirement already satisfied: joblib>=1.1.1 in /usr/local/lib/python3.11/dist-packages (from scikit-learn>=1.0.0->neurokit2) (1.4.2)\r\n",
      "Requirement already satisfied: threadpoolctl>=2.0.0 in /usr/local/lib/python3.11/dist-packages (from scikit-learn>=1.0.0->neurokit2) (3.6.0)\r\n",
      "Requirement already satisfied: pytz>=2020.1 in /usr/local/lib/python3.11/dist-packages (from pandas->neurokit2) (2025.2)\r\n",
      "Requirement already satisfied: tzdata>=2022.7 in /usr/local/lib/python3.11/dist-packages (from pandas->neurokit2) (2025.2)\r\n",
      "Requirement already satisfied: charset-normalizer<4,>=2 in /usr/local/lib/python3.11/dist-packages (from requests->neurokit2) (3.4.1)\r\n",
      "Requirement already satisfied: idna<4,>=2.5 in /usr/local/lib/python3.11/dist-packages (from requests->neurokit2) (3.10)\r\n",
      "Requirement already satisfied: urllib3<3,>=1.21.1 in /usr/local/lib/python3.11/dist-packages (from requests->neurokit2) (2.3.0)\r\n",
      "Requirement already satisfied: certifi>=2017.4.17 in /usr/local/lib/python3.11/dist-packages (from requests->neurokit2) (2025.1.31)\r\n",
      "Requirement already satisfied: six>=1.5 in /usr/local/lib/python3.11/dist-packages (from python-dateutil>=2.7->matplotlib>=3.5.0->neurokit2) (1.17.0)\r\n",
      "Requirement already satisfied: intel-openmp<2026,>=2024 in /usr/local/lib/python3.11/dist-packages (from mkl->numpy->neurokit2) (2024.2.0)\r\n",
      "Requirement already satisfied: tbb==2022.* in /usr/local/lib/python3.11/dist-packages (from mkl->numpy->neurokit2) (2022.1.0)\r\n",
      "Requirement already satisfied: tcmlib==1.* in /usr/local/lib/python3.11/dist-packages (from tbb==2022.*->mkl->numpy->neurokit2) (1.2.0)\r\n",
      "Requirement already satisfied: intel-cmplr-lib-rt in /usr/local/lib/python3.11/dist-packages (from mkl_umath->numpy->neurokit2) (2024.2.0)\r\n",
      "Requirement already satisfied: intel-cmplr-lib-ur==2024.2.0 in /usr/local/lib/python3.11/dist-packages (from intel-openmp<2026,>=2024->mkl->numpy->neurokit2) (2024.2.0)\r\n",
      "Downloading neurokit2-0.2.11-py2.py3-none-any.whl (696 kB)\r\n",
      "\u001b[2K   \u001b[90m━━━━━━━━━━━━━━━━━━━━━━━━━━━━━━━━━━━━━━━━\u001b[0m \u001b[32m696.5/696.5 kB\u001b[0m \u001b[31m16.8 MB/s\u001b[0m eta \u001b[36m0:00:00\u001b[0m\r\n",
      "\u001b[?25hInstalling collected packages: neurokit2\r\n",
      "Successfully installed neurokit2-0.2.11\r\n"
     ]
    }
   ],
   "source": [
    "!pip install neurokit2"
   ]
  },
  {
   "cell_type": "code",
   "execution_count": 2,
   "id": "6c97269c",
   "metadata": {
    "execution": {
     "iopub.execute_input": "2025-06-20T06:02:23.115353Z",
     "iopub.status.busy": "2025-06-20T06:02:23.114926Z",
     "iopub.status.idle": "2025-06-20T06:02:26.324296Z",
     "shell.execute_reply": "2025-06-20T06:02:26.323490Z"
    },
    "id": "bec6975b",
    "papermill": {
     "duration": 3.219982,
     "end_time": "2025-06-20T06:02:26.325705",
     "exception": false,
     "start_time": "2025-06-20T06:02:23.105723",
     "status": "completed"
    },
    "tags": []
   },
   "outputs": [],
   "source": [
    "import pandas as pd\n",
    "import numpy as np\n",
    "import ast\n",
    "import matplotlib.pyplot as plt\n",
    "import neurokit2 as nk\n",
    "import json\n",
    "import os"
   ]
  },
  {
   "cell_type": "code",
   "execution_count": 3,
   "id": "0d3637ba",
   "metadata": {
    "execution": {
     "iopub.execute_input": "2025-06-20T06:02:26.344709Z",
     "iopub.status.busy": "2025-06-20T06:02:26.344362Z",
     "iopub.status.idle": "2025-06-20T06:02:26.348564Z",
     "shell.execute_reply": "2025-06-20T06:02:26.347987Z"
    },
    "papermill": {
     "duration": 0.014733,
     "end_time": "2025-06-20T06:02:26.349632",
     "exception": false,
     "start_time": "2025-06-20T06:02:26.334899",
     "status": "completed"
    },
    "tags": []
   },
   "outputs": [],
   "source": [
    "# import os\n",
    "# import mne\n",
    "# import numpy as np\n",
    "# import pandas as pd\n",
    "# from scipy.signal import find_peaks\n",
    "\n",
    "# mne.set_log_level('WARNING')\n",
    "\n",
    "# all_data = []\n",
    "\n",
    "# def extract_periods(signal, distance_sec, sfreq, num_periods=5):\n",
    "#     # Find peaks\n",
    "#     peaks, _ = find_peaks(signal, distance=int(distance_sec * sfreq * 0.8))\n",
    "#     if len(peaks) < num_periods + 1:\n",
    "#         raise ValueError(\"Not enough peaks to extract the required number of periods.\")\n",
    "    \n",
    "#     periods = []\n",
    "#     for i in range(num_periods):\n",
    "#         start = peaks[i]\n",
    "#         end = peaks[i+1]\n",
    "#         periods.append(signal[start:end])\n",
    "#     return periods\n",
    "\n",
    "# def process_files(folder_path, label):\n",
    "#     file_names = os.listdir(folder_path)\n",
    "#     for file_name in file_names:\n",
    "#         if file_name.endswith('.edf'):\n",
    "#             try:\n",
    "#                 file_path = os.path.join(folder_path, file_name)\n",
    "#                 data = mne.io.read_raw_edf(file_path, preload=True)\n",
    "                \n",
    "#                 raw_data = data.get_data()\n",
    "#                 channels = data.ch_names\n",
    "#                 sfreq = data.info['sfreq']\n",
    "                \n",
    "#                 ecg_channels = ['ECG I', 'ECG II', 'ECG V1', 'ECG V2', 'ECG V3', 'ECG V4', 'ECG V5', 'ECG V6']\n",
    "                \n",
    "#                 missing_channels = [ch for ch in ecg_channels if ch not in channels]\n",
    "#                 if missing_channels:\n",
    "#                     print(f\"File {file_path} is missing channels: {missing_channels}\")\n",
    "#                     continue\n",
    "                \n",
    "#                 ecg_processed = []\n",
    "#                 ecg_pieces = []\n",
    "#                 for ch in ecg_channels:\n",
    "#                     channel_data = raw_data[channels.index(ch)]\n",
    "#                     channel_data = (channel_data - np.mean(channel_data)) / np.std(channel_data)\n",
    "                    \n",
    "#                     try:\n",
    "#                         periods = extract_periods(channel_data, distance_sec=0.6, sfreq=sfreq, num_periods=5)\n",
    "                        \n",
    "#                         for period in periods:\n",
    "#                             ecg_pieces.append(period)\n",
    "#                     except Exception as e:\n",
    "#                         print(f\"Could not extract periods from {file_name} channel {ch}: {e}\")\n",
    "\n",
    "#                 if ecg_pieces:\n",
    "#                     ecg_signal = np.hstack(ecg_pieces)\n",
    "#                     all_data.append({'signal': ecg_signal.tolist(), 'label': label})\n",
    "                \n",
    "#             except Exception as e:\n",
    "#                 print(f'Error with file {file_name}: {e}')\n",
    "#                 continue\n",
    "\n",
    "# # Process Amy files (label 1)\n",
    "# process_files(folder_path='/kaggle/input/finetuning-dataset/LFV', label=1)\n",
    "\n",
    "# # Process noAMY files (label 0)\n",
    "# process_files(folder_path='/kaggle/input/finetuning-dataset/noLFV', label=0)\n",
    "\n",
    "# # Create final DataFrame\n",
    "# df = pd.DataFrame(all_data)\n",
    "\n",
    "# # Save to ecg_train.csv\n",
    "# df.to_pickle('ecg_tune.pkl')\n",
    "\n",
    "# print(\"Successfully whatever!\")"
   ]
  },
  {
   "cell_type": "code",
   "execution_count": 4,
   "id": "20bb78e3",
   "metadata": {
    "execution": {
     "iopub.execute_input": "2025-06-20T06:02:26.367801Z",
     "iopub.status.busy": "2025-06-20T06:02:26.367590Z",
     "iopub.status.idle": "2025-06-20T06:02:26.370366Z",
     "shell.execute_reply": "2025-06-20T06:02:26.369845Z"
    },
    "papermill": {
     "duration": 0.013125,
     "end_time": "2025-06-20T06:02:26.371388",
     "exception": false,
     "start_time": "2025-06-20T06:02:26.358263",
     "status": "completed"
    },
    "tags": []
   },
   "outputs": [],
   "source": [
    "# maxm = 0\n",
    "# for i in range (104000):\n",
    "#     if np.int32(df.iloc[i, 0].shape[0]) > maxm:\n",
    "#         maxm = df.iloc[i, 0].shape\n",
    "# print(maxm)"
   ]
  },
  {
   "cell_type": "code",
   "execution_count": 5,
   "id": "d45393d8",
   "metadata": {
    "execution": {
     "iopub.execute_input": "2025-06-20T06:02:26.389278Z",
     "iopub.status.busy": "2025-06-20T06:02:26.389038Z",
     "iopub.status.idle": "2025-06-20T06:02:26.391753Z",
     "shell.execute_reply": "2025-06-20T06:02:26.391252Z"
    },
    "id": "lClpN762IhKm",
    "papermill": {
     "duration": 0.012785,
     "end_time": "2025-06-20T06:02:26.392761",
     "exception": false,
     "start_time": "2025-06-20T06:02:26.379976",
     "status": "completed"
    },
    "tags": []
   },
   "outputs": [],
   "source": [
    "# df = pd.read_pickle('/kaggle/input/finetuning-dataset/heartbeats.pkl')\n",
    "# # df.shape\n",
    "# n = np.linspace(0, 100, len(df.iloc[150][0]))\n",
    "# plt.plot(n, df.iloc[150][0])"
   ]
  },
  {
   "cell_type": "code",
   "execution_count": 6,
   "id": "f37f16fa",
   "metadata": {
    "execution": {
     "iopub.execute_input": "2025-06-20T06:02:26.410624Z",
     "iopub.status.busy": "2025-06-20T06:02:26.410194Z",
     "iopub.status.idle": "2025-06-20T06:02:27.323167Z",
     "shell.execute_reply": "2025-06-20T06:02:27.322448Z"
    },
    "papermill": {
     "duration": 0.923131,
     "end_time": "2025-06-20T06:02:27.324495",
     "exception": false,
     "start_time": "2025-06-20T06:02:26.401364",
     "status": "completed"
    },
    "tags": []
   },
   "outputs": [
    {
     "data": {
      "text/plain": [
       "(1816, 2)"
      ]
     },
     "execution_count": 6,
     "metadata": {},
     "output_type": "execute_result"
    }
   ],
   "source": [
    "df = pd.read_pickle('/kaggle/input/finetuning-dataset/ecg_tune.pkl')\n",
    "df.shape"
   ]
  },
  {
   "cell_type": "code",
   "execution_count": 7,
   "id": "1344f236",
   "metadata": {
    "execution": {
     "iopub.execute_input": "2025-06-20T06:02:27.342882Z",
     "iopub.status.busy": "2025-06-20T06:02:27.342653Z",
     "iopub.status.idle": "2025-06-20T06:02:27.367325Z",
     "shell.execute_reply": "2025-06-20T06:02:27.366597Z"
    },
    "papermill": {
     "duration": 0.035003,
     "end_time": "2025-06-20T06:02:27.368441",
     "exception": false,
     "start_time": "2025-06-20T06:02:27.333438",
     "status": "completed"
    },
    "tags": []
   },
   "outputs": [
    {
     "data": {
      "text/html": [
       "<div>\n",
       "<style scoped>\n",
       "    .dataframe tbody tr th:only-of-type {\n",
       "        vertical-align: middle;\n",
       "    }\n",
       "\n",
       "    .dataframe tbody tr th {\n",
       "        vertical-align: top;\n",
       "    }\n",
       "\n",
       "    .dataframe thead th {\n",
       "        text-align: right;\n",
       "    }\n",
       "</style>\n",
       "<table border=\"1\" class=\"dataframe\">\n",
       "  <thead>\n",
       "    <tr style=\"text-align: right;\">\n",
       "      <th></th>\n",
       "      <th>signal</th>\n",
       "      <th>label</th>\n",
       "    </tr>\n",
       "  </thead>\n",
       "  <tbody>\n",
       "    <tr>\n",
       "      <th>0</th>\n",
       "      <td>[0.042232577986440104, 0.0470670537923487, 0.0...</td>\n",
       "      <td>1</td>\n",
       "    </tr>\n",
       "    <tr>\n",
       "      <th>1</th>\n",
       "      <td>[-0.02575025164205102, -0.02504170821938366, -...</td>\n",
       "      <td>1</td>\n",
       "    </tr>\n",
       "    <tr>\n",
       "      <th>2</th>\n",
       "      <td>[-0.01787115710559064, -0.016211404883840905, ...</td>\n",
       "      <td>1</td>\n",
       "    </tr>\n",
       "    <tr>\n",
       "      <th>3</th>\n",
       "      <td>[-0.009995051078367553, -0.0077472439476526725...</td>\n",
       "      <td>1</td>\n",
       "    </tr>\n",
       "    <tr>\n",
       "      <th>4</th>\n",
       "      <td>[-0.07244506616318022, -0.07452869741081661, -...</td>\n",
       "      <td>1</td>\n",
       "    </tr>\n",
       "  </tbody>\n",
       "</table>\n",
       "</div>"
      ],
      "text/plain": [
       "                                              signal  label\n",
       "0  [0.042232577986440104, 0.0470670537923487, 0.0...      1\n",
       "1  [-0.02575025164205102, -0.02504170821938366, -...      1\n",
       "2  [-0.01787115710559064, -0.016211404883840905, ...      1\n",
       "3  [-0.009995051078367553, -0.0077472439476526725...      1\n",
       "4  [-0.07244506616318022, -0.07452869741081661, -...      1"
      ]
     },
     "execution_count": 7,
     "metadata": {},
     "output_type": "execute_result"
    }
   ],
   "source": [
    "df.head()"
   ]
  },
  {
   "cell_type": "code",
   "execution_count": 8,
   "id": "fabacd37",
   "metadata": {
    "execution": {
     "iopub.execute_input": "2025-06-20T06:02:27.386735Z",
     "iopub.status.busy": "2025-06-20T06:02:27.386505Z",
     "iopub.status.idle": "2025-06-20T06:02:27.397731Z",
     "shell.execute_reply": "2025-06-20T06:02:27.397234Z"
    },
    "id": "wnuAlmWnF4e0",
    "papermill": {
     "duration": 0.021378,
     "end_time": "2025-06-20T06:02:27.398733",
     "exception": false,
     "start_time": "2025-06-20T06:02:27.377355",
     "status": "completed"
    },
    "tags": []
   },
   "outputs": [],
   "source": [
    "total_db_new = df[df['label']==0].head(0)\n",
    "for i in range(2):\n",
    " total_db_new = pd.concat([total_db_new,df[df['label']==i].sample(n=908)],ignore_index=True)\n",
    "# total_db_new = df"
   ]
  },
  {
   "cell_type": "code",
   "execution_count": 9,
   "id": "6f293d4e",
   "metadata": {
    "execution": {
     "iopub.execute_input": "2025-06-20T06:02:27.417493Z",
     "iopub.status.busy": "2025-06-20T06:02:27.417270Z",
     "iopub.status.idle": "2025-06-20T06:02:27.420731Z",
     "shell.execute_reply": "2025-06-20T06:02:27.420245Z"
    },
    "id": "0d576bd3",
    "papermill": {
     "duration": 0.014124,
     "end_time": "2025-06-20T06:02:27.421745",
     "exception": false,
     "start_time": "2025-06-20T06:02:27.407621",
     "status": "completed"
    },
    "tags": []
   },
   "outputs": [],
   "source": [
    "def resample_signal(row):\n",
    "    original_signal = row['signal']\n",
    "    resampled_signal = nk.signal_resample(original_signal, sampling_rate=500, desired_sampling_rate= 250, method=\"FFT\")\n",
    "    return pd.Series({'signal': resampled_signal, 'label': row['label']})"
   ]
  },
  {
   "cell_type": "code",
   "execution_count": 10,
   "id": "9a184d6f",
   "metadata": {
    "execution": {
     "iopub.execute_input": "2025-06-20T06:02:27.440077Z",
     "iopub.status.busy": "2025-06-20T06:02:27.439900Z",
     "iopub.status.idle": "2025-06-20T06:02:28.654355Z",
     "shell.execute_reply": "2025-06-20T06:02:28.653764Z"
    },
    "id": "iMAWHE6QLPPl",
    "papermill": {
     "duration": 1.224989,
     "end_time": "2025-06-20T06:02:28.655719",
     "exception": false,
     "start_time": "2025-06-20T06:02:27.430730",
     "status": "completed"
    },
    "tags": []
   },
   "outputs": [],
   "source": [
    "resampled_df = total_db_new.apply(resample_signal, axis=1)\n",
    "del total_db_new\n",
    "total_db_new = resampled_df"
   ]
  },
  {
   "cell_type": "markdown",
   "id": "2aa02f12",
   "metadata": {
    "id": "g9fqfIyXE6CB",
    "papermill": {
     "duration": 0.009474,
     "end_time": "2025-06-20T06:02:28.676909",
     "exception": false,
     "start_time": "2025-06-20T06:02:28.667435",
     "status": "completed"
    },
    "tags": []
   },
   "source": [
    "# Split and Normalization"
   ]
  },
  {
   "cell_type": "code",
   "execution_count": 11,
   "id": "83d3dc86",
   "metadata": {
    "execution": {
     "iopub.execute_input": "2025-06-20T06:02:28.695669Z",
     "iopub.status.busy": "2025-06-20T06:02:28.695145Z",
     "iopub.status.idle": "2025-06-20T06:02:28.702424Z",
     "shell.execute_reply": "2025-06-20T06:02:28.701910Z"
    },
    "id": "ymYewx2pE8E7",
    "papermill": {
     "duration": 0.017604,
     "end_time": "2025-06-20T06:02:28.703408",
     "exception": false,
     "start_time": "2025-06-20T06:02:28.685804",
     "status": "completed"
    },
    "tags": []
   },
   "outputs": [],
   "source": [
    "from sklearn.model_selection import train_test_split\n",
    "\n",
    "train_df, temp_df = train_test_split(total_db_new, test_size=0.3, random_state=42)\n",
    "val_df, test_df = train_test_split(temp_df, test_size=(2/3), random_state=42)\n",
    "\n",
    "train_df.reset_index(drop=True, inplace=True)\n",
    "val_df.reset_index(drop=True, inplace=True)\n",
    "test_df.reset_index(drop=True, inplace=True)"
   ]
  },
  {
   "cell_type": "code",
   "execution_count": 12,
   "id": "70b252bd",
   "metadata": {
    "execution": {
     "iopub.execute_input": "2025-06-20T06:02:28.721492Z",
     "iopub.status.busy": "2025-06-20T06:02:28.721098Z",
     "iopub.status.idle": "2025-06-20T06:02:29.026710Z",
     "shell.execute_reply": "2025-06-20T06:02:29.025857Z"
    },
    "id": "6Q_TwZaddElo",
    "papermill": {
     "duration": 0.315947,
     "end_time": "2025-06-20T06:02:29.027941",
     "exception": false,
     "start_time": "2025-06-20T06:02:28.711994",
     "status": "completed"
    },
    "tags": []
   },
   "outputs": [
    {
     "name": "stdout",
     "output_type": "stream",
     "text": [
      "-5.209034011979457 3.5960230349333737\n",
      "-3.15710969772702 2.862462871404692\n",
      "-3.8223723399745015 3.0604428310767835\n"
     ]
    }
   ],
   "source": [
    "def find_max_min(current_df):\n",
    "  min_value = current_df['signal'].apply(lambda x: min(x)).min()\n",
    "  max_value = current_df['signal'].apply(lambda x: max(x)).max()\n",
    "  return min_value, max_value\n",
    "\n",
    "min_train_df, max_train_df = find_max_min(train_df)\n",
    "print(min_train_df, max_train_df)\n",
    "\n",
    "min_val_df, max_val_df = find_max_min(val_df)\n",
    "print(min_val_df, max_val_df)\n",
    "\n",
    "min_test_df, max_test_df = find_max_min(test_df)\n",
    "print(min_test_df, max_test_df)"
   ]
  },
  {
   "cell_type": "code",
   "execution_count": 13,
   "id": "e6880301",
   "metadata": {
    "execution": {
     "iopub.execute_input": "2025-06-20T06:02:29.046867Z",
     "iopub.status.busy": "2025-06-20T06:02:29.046639Z",
     "iopub.status.idle": "2025-06-20T06:02:29.570984Z",
     "shell.execute_reply": "2025-06-20T06:02:29.570224Z"
    },
    "id": "xQUEFk7yfB9m",
    "papermill": {
     "duration": 0.535266,
     "end_time": "2025-06-20T06:02:29.572443",
     "exception": false,
     "start_time": "2025-06-20T06:02:29.037177",
     "status": "completed"
    },
    "tags": []
   },
   "outputs": [],
   "source": [
    "train_df['signal'] = train_df['signal'].apply(lambda x: [(item - min_train_df) / (max_train_df - min_train_df) for item in x])\n",
    "\n",
    "val_df['signal'] = val_df['signal'].apply(lambda x: [(item - min_val_df) / (max_val_df - min_val_df) for item in x])\n",
    "\n",
    "test_df['signal'] = test_df['signal'].apply(lambda x: [(item - min_test_df) / (max_test_df - min_test_df) for item in x])\n"
   ]
  },
  {
   "cell_type": "markdown",
   "id": "67295f38",
   "metadata": {
    "id": "rP54exdx7ZFF",
    "papermill": {
     "duration": 0.008556,
     "end_time": "2025-06-20T06:02:29.590404",
     "exception": false,
     "start_time": "2025-06-20T06:02:29.581848",
     "status": "completed"
    },
    "tags": []
   },
   "source": [
    "#Quantization\n"
   ]
  },
  {
   "cell_type": "code",
   "execution_count": 14,
   "id": "6cecd30c",
   "metadata": {
    "execution": {
     "iopub.execute_input": "2025-06-20T06:02:29.609103Z",
     "iopub.status.busy": "2025-06-20T06:02:29.608865Z",
     "iopub.status.idle": "2025-06-20T06:02:29.625216Z",
     "shell.execute_reply": "2025-06-20T06:02:29.624673Z"
    },
    "id": "T9cwSwdnUrl7",
    "papermill": {
     "duration": 0.026778,
     "end_time": "2025-06-20T06:02:29.626222",
     "exception": false,
     "start_time": "2025-06-20T06:02:29.599444",
     "status": "completed"
    },
    "tags": []
   },
   "outputs": [],
   "source": [
    "# from https://github.com/joaomrcarvalho/diffquantizer.git\n",
    "\n",
    "class DiffQuantizer:\n",
    "    def __init__(self, alphabet_size, average_over=1, filter=False, breakpoints=None, use_diffs=True):\n",
    "\n",
    "        self.alphabet_size = alphabet_size\n",
    "        self.average_over = average_over\n",
    "        self.use_filter = filter\n",
    "        self.breakpoints = breakpoints\n",
    "        self.use_diffs = use_diffs\n",
    "        # print('self.breakpoints:',self.breakpoints)\n",
    "\n",
    "    def preprocess(self, tmp):\n",
    "        if self.average_over != 1:\n",
    "            tmp = self._average_over_n(tmp, self.average_over)\n",
    "\n",
    "        if self.use_filter:\n",
    "            tmp = self._filter_signal(tmp)\n",
    "\n",
    "        if self.use_diffs:\n",
    "            tmp = self._diff_signal(tmp)\n",
    "\n",
    "        return tmp\n",
    "\n",
    "    def perform_quantization(self, tmp, breakpoints=None):\n",
    "        self.breakpoints = breakpoints\n",
    "        # print('perform_quantization, self.breakpoints:',self.breakpoints)\n",
    "        tmp = self.preprocess(tmp)\n",
    "        result = self._quantize_with_breakpoints(tmp)\n",
    "        return result\n",
    "\n",
    "    def learn_breakpoints(self, arr):\n",
    "        res = self.preprocess(arr)\n",
    "\n",
    "        sorted_array = np.sort(res)\n",
    "\n",
    "        length = len(sorted_array)\n",
    "\n",
    "        probs = [1 / self.alphabet_size for _ in range(self.alphabet_size)]\n",
    "        cum_sum_breakpoints = [int(sum(probs[0:i + 1]) * length - 1) for i in range(len(probs))]\n",
    "        cum_sum_breakpoint_values = sorted_array[cum_sum_breakpoints]\n",
    "\n",
    "        cum_sum_breakpoint_values[-1] = 1e+100\n",
    "\n",
    "        self.breakpoints = cum_sum_breakpoint_values\n",
    "        # print('learn_breakpoints,self.breakpoints',self.breakpoints)\n",
    "\n",
    "        return cum_sum_breakpoint_values\n",
    "\n",
    "    # vectorized use\n",
    "    @staticmethod\n",
    "    def _breakpoint_to_letter(float_num, breakpoints):\n",
    "        # print('float_num:',float_num,'breakpoints:',breakpoints)\n",
    "        # print(list((breakpoints.index(obj) for obj in breakpoints if float_num < obj)))\n",
    "        int_val = next((breakpoints.index(obj) for obj in breakpoints if float_num < obj))\n",
    "        # print(int_val,list((breakpoints.index(obj) for obj in breakpoints if float_num < obj)))\n",
    "        # A + int_val\n",
    "        return chr(65 + int_val)\n",
    "\n",
    "    def _quantize_with_breakpoints(self, tmp):\n",
    "        breakpoints = self.breakpoints\n",
    "        vect_breakpoint_to_letter = np.vectorize(self._breakpoint_to_letter, excluded=['breakpoints'])\n",
    "        # print(tmp,breakpoints,self._breakpoint_to_letter,vect_breakpoint_to_letter)\n",
    "        tmp = vect_breakpoint_to_letter(tmp, breakpoints=list(breakpoints))\n",
    "        # tmp = vect_breakpoint_to_letter(tmp, breakpoints=breakpoints)\n",
    "        return tmp\n",
    "\n",
    "    @staticmethod\n",
    "    def _read_csv_file(input_file):\n",
    "        tmp_file_content = pd.read_csv(input_file, sep=\"\\n\", header=None, dtype=np.float64)\n",
    "        return np.array(tmp_file_content)\n",
    "\n",
    "    ## @staticmethod\n",
    "    # def _filter_signal(tmp):\n",
    "    #     return butter_lowpass_filter(tmp)\n",
    "\n",
    "    @staticmethod\n",
    "    def _average_over_n(tmp, n):\n",
    "        return np.array([np.average(tmp[i:i + n]) for i in range(0, len(tmp), n)])\n",
    "\n",
    "    @staticmethod\n",
    "    def _diff_signal(tmp):\n",
    "        res = np.diff(tmp)\n",
    "        return np.insert(res, 0, 0.0)"
   ]
  },
  {
   "cell_type": "code",
   "execution_count": 15,
   "id": "76084783",
   "metadata": {
    "execution": {
     "iopub.execute_input": "2025-06-20T06:02:29.691675Z",
     "iopub.status.busy": "2025-06-20T06:02:29.691186Z",
     "iopub.status.idle": "2025-06-20T06:02:29.697461Z",
     "shell.execute_reply": "2025-06-20T06:02:29.696770Z"
    },
    "id": "FP5-zJfHbkdg",
    "papermill": {
     "duration": 0.017062,
     "end_time": "2025-06-20T06:02:29.698620",
     "exception": false,
     "start_time": "2025-06-20T06:02:29.681558",
     "status": "completed"
    },
    "tags": []
   },
   "outputs": [],
   "source": [
    "import math\n",
    "import csv\n",
    "\n",
    "class Preprocessing():\n",
    "\n",
    "  def __init__(self, input_file, discretizition_factor, max_window_size):\n",
    "    self.input_file = input_file\n",
    "    self.discretizition_factor = discretizition_factor\n",
    "    self.max_window_size = max_window_size\n",
    "\n",
    "\n",
    "  def create_window(self):\n",
    "\n",
    "    ecg_window = [] #ecg_window: list of windows\n",
    "\n",
    "    mlen=0\n",
    "    ecg_list = self.input_file['signal']\n",
    "    if len(ecg_list) > mlen:\n",
    "      mlen= len(ecg_list)\n",
    "\n",
    "    if mlen > self.max_window_size:\n",
    "      window_size = self.max_window_size\n",
    "    else:\n",
    "      window_size = mlen\n",
    "\n",
    "    num_lines = math.floor(len(ecg_list)/window_size) #in this case: 1\n",
    "\n",
    "    for i in range(num_lines):\n",
    "      tmp_list = ecg_list[i*window_size:(i+1)*window_size]\n",
    "      ecg_window.append(tmp_list)\n",
    "\n",
    "    return ecg_window\n",
    "\n",
    "  def change_to_alphabet(self, quantizer, normalized_list):\n",
    "    qtz_signal = []\n",
    "    labels = []\n",
    "    qtz = quantizer\n",
    "    for i in range(len(normalized_list)): #i is for each line\n",
    "      r = qtz.perform_quantization(np.array(normalized_list[i]),breakpoints=qtz.breakpoints)\n",
    "      # print('result:',r.shape)\n",
    "      # make r from list of chars  to string a chars by ''.joint(r)\n",
    "      qtz_signal.append(''.join(r))\n",
    "      labels.append(self.input_file['label'])\n",
    "\n",
    "    return qtz_signal, labels"
   ]
  },
  {
   "cell_type": "code",
   "execution_count": 16,
   "id": "680500ff",
   "metadata": {
    "execution": {
     "iopub.execute_input": "2025-06-20T06:02:29.717782Z",
     "iopub.status.busy": "2025-06-20T06:02:29.717411Z",
     "iopub.status.idle": "2025-06-20T06:02:29.721002Z",
     "shell.execute_reply": "2025-06-20T06:02:29.720381Z"
    },
    "id": "OQTmc7tdvUeI",
    "papermill": {
     "duration": 0.014163,
     "end_time": "2025-06-20T06:02:29.722053",
     "exception": false,
     "start_time": "2025-06-20T06:02:29.707890",
     "status": "completed"
    },
    "tags": []
   },
   "outputs": [],
   "source": [
    "### lloyd_max\n",
    "def discretization_lloyd_max(discretizition_factor, total_data):\n",
    "  qtz_signal = []\n",
    "  labels = []\n",
    "  qtz=DiffQuantizer(alphabet_size=discretizition_factor,breakpoints=None,use_diffs=False)\n",
    "  qtz.learn_breakpoints(np.array(total_data))\n",
    "  return qtz"
   ]
  },
  {
   "cell_type": "code",
   "execution_count": 17,
   "id": "cb47ff9d",
   "metadata": {
    "execution": {
     "iopub.execute_input": "2025-06-20T06:02:29.740286Z",
     "iopub.status.busy": "2025-06-20T06:02:29.740061Z",
     "iopub.status.idle": "2025-06-20T06:02:29.745146Z",
     "shell.execute_reply": "2025-06-20T06:02:29.744494Z"
    },
    "id": "Q_D6QlzN-lNN",
    "papermill": {
     "duration": 0.015457,
     "end_time": "2025-06-20T06:02:29.746299",
     "exception": false,
     "start_time": "2025-06-20T06:02:29.730842",
     "status": "completed"
    },
    "tags": []
   },
   "outputs": [],
   "source": [
    "def run_Preprocessing(db, max_window_size=4000, discretizition_factor=100):\n",
    "    discretizition_factor = discretizition_factor\n",
    "    max_window_size = max_window_size\n",
    "    nl_list, total_data = [], []\n",
    "    r_list, labels = [], []\n",
    "\n",
    "    for n in range(len(db)):\n",
    "      pre = Preprocessing(db.loc[n], discretizition_factor, max_window_size)\n",
    "      nl = pre.create_window()\n",
    "      nl_list.append(nl)\n",
    "\n",
    "    for i in range(len(nl_list)):\n",
    "        total_data.extend(nl_list[i][0])\n",
    "\n",
    "    quantize_max_lloyd_on_total_data = discretization_lloyd_max(discretizition_factor, total_data)\n",
    "\n",
    "    for n in range(len(db)):\n",
    "      pre = Preprocessing(db.loc[n], discretizition_factor, max_window_size)\n",
    "      nl = pre.create_window()\n",
    "      r, l = pre.change_to_alphabet(quantize_max_lloyd_on_total_data, nl)\n",
    "      r_list.extend(r)\n",
    "      labels.extend(l)\n",
    "    print(n, \" : done\")\n",
    "\n",
    "    return r_list, labels"
   ]
  },
  {
   "cell_type": "markdown",
   "id": "ba9e3d40",
   "metadata": {
    "id": "Qaleio2RaHuG",
    "papermill": {
     "duration": 0.008605,
     "end_time": "2025-06-20T06:02:29.763884",
     "exception": false,
     "start_time": "2025-06-20T06:02:29.755279",
     "status": "completed"
    },
    "tags": []
   },
   "source": [
    "`check max_window_size`"
   ]
  },
  {
   "cell_type": "code",
   "execution_count": 18,
   "id": "4c8802b5",
   "metadata": {
    "execution": {
     "iopub.execute_input": "2025-06-20T06:02:29.782059Z",
     "iopub.status.busy": "2025-06-20T06:02:29.781846Z",
     "iopub.status.idle": "2025-06-20T06:02:42.707748Z",
     "shell.execute_reply": "2025-06-20T06:02:42.706919Z"
    },
    "id": "8kfdJIhbOgzE",
    "papermill": {
     "duration": 12.936482,
     "end_time": "2025-06-20T06:02:42.708989",
     "exception": false,
     "start_time": "2025-06-20T06:02:29.772507",
     "status": "completed"
    },
    "tags": []
   },
   "outputs": [
    {
     "name": "stdout",
     "output_type": "stream",
     "text": [
      "1270  : done\n",
      "180  : done\n",
      "363  : done\n"
     ]
    }
   ],
   "source": [
    "r_list_train, labels_train = run_Preprocessing(db=train_df, max_window_size=4000, discretizition_factor=100)\n",
    "\n",
    "r_list_val, labels_val = run_Preprocessing(db=val_df, max_window_size=4000, discretizition_factor=100)\n",
    "\n",
    "r_list_test, labels_test = run_Preprocessing(db=test_df, max_window_size=4000, discretizition_factor=100)"
   ]
  },
  {
   "cell_type": "code",
   "execution_count": 19,
   "id": "57d93539",
   "metadata": {
    "execution": {
     "iopub.execute_input": "2025-06-20T06:02:42.728108Z",
     "iopub.status.busy": "2025-06-20T06:02:42.727910Z",
     "iopub.status.idle": "2025-06-20T06:02:42.732310Z",
     "shell.execute_reply": "2025-06-20T06:02:42.731639Z"
    },
    "papermill": {
     "duration": 0.014864,
     "end_time": "2025-06-20T06:02:42.733332",
     "exception": false,
     "start_time": "2025-06-20T06:02:42.718468",
     "status": "completed"
    },
    "tags": []
   },
   "outputs": [
    {
     "data": {
      "text/plain": [
       "1271"
      ]
     },
     "execution_count": 19,
     "metadata": {},
     "output_type": "execute_result"
    }
   ],
   "source": [
    "len(r_list_train)"
   ]
  },
  {
   "cell_type": "markdown",
   "id": "24b18645",
   "metadata": {
    "id": "P_EiiYPF0Yec",
    "papermill": {
     "duration": 0.008927,
     "end_time": "2025-06-20T06:02:42.751120",
     "exception": false,
     "start_time": "2025-06-20T06:02:42.742193",
     "status": "completed"
    },
    "tags": []
   },
   "source": [
    "# Tokenizer"
   ]
  },
  {
   "cell_type": "code",
   "execution_count": 20,
   "id": "5858d56d",
   "metadata": {
    "execution": {
     "iopub.execute_input": "2025-06-20T06:02:42.769955Z",
     "iopub.status.busy": "2025-06-20T06:02:42.769545Z",
     "iopub.status.idle": "2025-06-20T06:02:49.637496Z",
     "shell.execute_reply": "2025-06-20T06:02:49.636886Z"
    },
    "id": "fT5QosR96oJe",
    "papermill": {
     "duration": 6.878764,
     "end_time": "2025-06-20T06:02:49.638800",
     "exception": false,
     "start_time": "2025-06-20T06:02:42.760036",
     "status": "completed"
    },
    "tags": []
   },
   "outputs": [],
   "source": [
    "from transformers import AutoTokenizer, AutoModel"
   ]
  },
  {
   "cell_type": "code",
   "execution_count": 21,
   "id": "757b2aa0",
   "metadata": {
    "execution": {
     "iopub.execute_input": "2025-06-20T06:02:49.658315Z",
     "iopub.status.busy": "2025-06-20T06:02:49.657913Z",
     "iopub.status.idle": "2025-06-20T06:02:49.867374Z",
     "shell.execute_reply": "2025-06-20T06:02:49.866745Z"
    },
    "id": "4nKlFTVqtMNr",
    "papermill": {
     "duration": 0.220597,
     "end_time": "2025-06-20T06:02:49.868728",
     "exception": false,
     "start_time": "2025-06-20T06:02:49.648131",
     "status": "completed"
    },
    "tags": []
   },
   "outputs": [],
   "source": [
    "tokenizer_ft = AutoTokenizer.from_pretrained(pretrained_model_name_or_path=\"/kaggle/input/pretrained_heartbert/transformers/pt20k_250/1/model\")"
   ]
  },
  {
   "cell_type": "code",
   "execution_count": 22,
   "id": "c589a0c0",
   "metadata": {
    "execution": {
     "iopub.execute_input": "2025-06-20T06:02:49.888146Z",
     "iopub.status.busy": "2025-06-20T06:02:49.887918Z",
     "iopub.status.idle": "2025-06-20T06:02:49.891652Z",
     "shell.execute_reply": "2025-06-20T06:02:49.890954Z"
    },
    "id": "Waf_u_mS6m2n",
    "papermill": {
     "duration": 0.014527,
     "end_time": "2025-06-20T06:02:49.892705",
     "exception": false,
     "start_time": "2025-06-20T06:02:49.878178",
     "status": "completed"
    },
    "tags": []
   },
   "outputs": [],
   "source": [
    "def tokenize_function(examples, max_length = 512):\n",
    "    return tokenizer_ft(examples, padding=\"max_length\", truncation=True, max_length=max_length)"
   ]
  },
  {
   "cell_type": "code",
   "execution_count": 23,
   "id": "f494cfc0",
   "metadata": {
    "execution": {
     "iopub.execute_input": "2025-06-20T06:02:49.911288Z",
     "iopub.status.busy": "2025-06-20T06:02:49.911050Z",
     "iopub.status.idle": "2025-06-20T06:02:51.599030Z",
     "shell.execute_reply": "2025-06-20T06:02:51.598248Z"
    },
    "id": "wVCCbiBY6m2n",
    "papermill": {
     "duration": 1.698869,
     "end_time": "2025-06-20T06:02:51.600495",
     "exception": false,
     "start_time": "2025-06-20T06:02:49.901626",
     "status": "completed"
    },
    "tags": []
   },
   "outputs": [],
   "source": [
    "tokenized_dataset_train = list(map(tokenize_function, r_list_train))\n",
    "\n",
    "tokenized_dataset_val = list(map(tokenize_function, r_list_val))\n",
    "\n",
    "tokenized_dataset_test = list(map(tokenize_function, r_list_test))"
   ]
  },
  {
   "cell_type": "code",
   "execution_count": 24,
   "id": "3d05c946",
   "metadata": {
    "execution": {
     "iopub.execute_input": "2025-06-20T06:02:51.620172Z",
     "iopub.status.busy": "2025-06-20T06:02:51.619926Z",
     "iopub.status.idle": "2025-06-20T06:02:51.624304Z",
     "shell.execute_reply": "2025-06-20T06:02:51.623603Z"
    },
    "papermill": {
     "duration": 0.015123,
     "end_time": "2025-06-20T06:02:51.625424",
     "exception": false,
     "start_time": "2025-06-20T06:02:51.610301",
     "status": "completed"
    },
    "tags": []
   },
   "outputs": [
    {
     "data": {
      "text/plain": [
       "364"
      ]
     },
     "execution_count": 24,
     "metadata": {},
     "output_type": "execute_result"
    }
   ],
   "source": [
    "len(tokenized_dataset_test)"
   ]
  },
  {
   "cell_type": "markdown",
   "id": "356465f9",
   "metadata": {
    "id": "niQm13G2qEfe",
    "papermill": {
     "duration": 0.008981,
     "end_time": "2025-06-20T06:02:51.643548",
     "exception": false,
     "start_time": "2025-06-20T06:02:51.634567",
     "status": "completed"
    },
    "tags": []
   },
   "source": [
    "## input_ids, attention_masks, labels"
   ]
  },
  {
   "cell_type": "code",
   "execution_count": 25,
   "id": "70ac98aa",
   "metadata": {
    "execution": {
     "iopub.execute_input": "2025-06-20T06:02:51.662512Z",
     "iopub.status.busy": "2025-06-20T06:02:51.662107Z",
     "iopub.status.idle": "2025-06-20T06:02:51.666557Z",
     "shell.execute_reply": "2025-06-20T06:02:51.666025Z"
    },
    "id": "lGGbYR7spHjt",
    "papermill": {
     "duration": 0.015089,
     "end_time": "2025-06-20T06:02:51.667636",
     "exception": false,
     "start_time": "2025-06-20T06:02:51.652547",
     "status": "completed"
    },
    "tags": []
   },
   "outputs": [],
   "source": [
    "def return_ids(tokenized_dataset):\n",
    "\n",
    "  dataset = []\n",
    "  input_ids = []\n",
    "  attention_masks = []\n",
    "\n",
    "  for i in range(len(tokenized_dataset)):\n",
    "\n",
    "      dataset.append(tokenized_dataset[i])\n",
    "      del dataset[-1]['token_type_ids']\n",
    "\n",
    "      input_ids.append(np.array(dataset[-1]['input_ids'], dtype=np.int32))\n",
    "\n",
    "      attention_masks.append(np.array(dataset[-1]['attention_mask'], dtype=bool))\n",
    "\n",
    "      dataset = []\n",
    "\n",
    "  input_ids = np.array(input_ids)\n",
    "  attention_masks = np.array(attention_masks)\n",
    "\n",
    "  return input_ids, attention_masks"
   ]
  },
  {
   "cell_type": "code",
   "execution_count": 26,
   "id": "6872e767",
   "metadata": {
    "execution": {
     "iopub.execute_input": "2025-06-20T06:02:51.686842Z",
     "iopub.status.busy": "2025-06-20T06:02:51.686284Z",
     "iopub.status.idle": "2025-06-20T06:02:51.789793Z",
     "shell.execute_reply": "2025-06-20T06:02:51.788938Z"
    },
    "id": "NZFMyJCntiwk",
    "papermill": {
     "duration": 0.114523,
     "end_time": "2025-06-20T06:02:51.791257",
     "exception": false,
     "start_time": "2025-06-20T06:02:51.676734",
     "status": "completed"
    },
    "tags": []
   },
   "outputs": [],
   "source": [
    "input_ids_train, attention_masks_train = return_ids(tokenized_dataset_train)\n",
    "\n",
    "input_ids_val, attention_masks_val = return_ids(tokenized_dataset_val)\n",
    "\n",
    "input_ids_test, attention_masks_test = return_ids(tokenized_dataset_test)"
   ]
  },
  {
   "cell_type": "code",
   "execution_count": 27,
   "id": "b6e1523d",
   "metadata": {
    "execution": {
     "iopub.execute_input": "2025-06-20T06:02:51.810838Z",
     "iopub.status.busy": "2025-06-20T06:02:51.810623Z",
     "iopub.status.idle": "2025-06-20T06:02:51.814368Z",
     "shell.execute_reply": "2025-06-20T06:02:51.813824Z"
    },
    "id": "OG17Rq5tuq0K",
    "papermill": {
     "duration": 0.014564,
     "end_time": "2025-06-20T06:02:51.815458",
     "exception": false,
     "start_time": "2025-06-20T06:02:51.800894",
     "status": "completed"
    },
    "tags": []
   },
   "outputs": [],
   "source": [
    "labels_train = np.array(labels_train,dtype=np.int8)\n",
    "\n",
    "labels_val = np.array(labels_val,dtype=np.int8)\n",
    "\n",
    "labels_test = np.array(labels_test,dtype=np.int8)"
   ]
  },
  {
   "cell_type": "code",
   "execution_count": 28,
   "id": "29c9f31c",
   "metadata": {
    "execution": {
     "iopub.execute_input": "2025-06-20T06:02:51.834615Z",
     "iopub.status.busy": "2025-06-20T06:02:51.834404Z",
     "iopub.status.idle": "2025-06-20T06:02:51.838271Z",
     "shell.execute_reply": "2025-06-20T06:02:51.837782Z"
    },
    "papermill": {
     "duration": 0.014468,
     "end_time": "2025-06-20T06:02:51.839300",
     "exception": false,
     "start_time": "2025-06-20T06:02:51.824832",
     "status": "completed"
    },
    "tags": []
   },
   "outputs": [
    {
     "data": {
      "text/plain": [
       "364"
      ]
     },
     "execution_count": 28,
     "metadata": {},
     "output_type": "execute_result"
    }
   ],
   "source": [
    "len(labels_test)"
   ]
  },
  {
   "cell_type": "markdown",
   "id": "4432c344",
   "metadata": {
    "id": "bEppEuYow1Wy",
    "papermill": {
     "duration": 0.008848,
     "end_time": "2025-06-20T06:02:51.857306",
     "exception": false,
     "start_time": "2025-06-20T06:02:51.848458",
     "status": "completed"
    },
    "tags": []
   },
   "source": [
    "# DataLoader"
   ]
  },
  {
   "cell_type": "code",
   "execution_count": 29,
   "id": "23303fe3",
   "metadata": {
    "execution": {
     "iopub.execute_input": "2025-06-20T06:02:51.876355Z",
     "iopub.status.busy": "2025-06-20T06:02:51.875765Z",
     "iopub.status.idle": "2025-06-20T06:02:51.879446Z",
     "shell.execute_reply": "2025-06-20T06:02:51.878764Z"
    },
    "id": "ajDUtGJYPNws",
    "papermill": {
     "duration": 0.01423,
     "end_time": "2025-06-20T06:02:51.880500",
     "exception": false,
     "start_time": "2025-06-20T06:02:51.866270",
     "status": "completed"
    },
    "tags": []
   },
   "outputs": [],
   "source": [
    "import torch\n",
    "import torch.nn as nn\n",
    "import torch.optim as optim\n",
    "import torch.nn.functional as F\n",
    "from torch.utils.data import TensorDataset, DataLoader"
   ]
  },
  {
   "cell_type": "code",
   "execution_count": 30,
   "id": "f03862c3",
   "metadata": {
    "execution": {
     "iopub.execute_input": "2025-06-20T06:02:51.899234Z",
     "iopub.status.busy": "2025-06-20T06:02:51.899007Z",
     "iopub.status.idle": "2025-06-20T06:02:51.962520Z",
     "shell.execute_reply": "2025-06-20T06:02:51.961778Z"
    },
    "id": "eQq23H8MO_6q",
    "papermill": {
     "duration": 0.074272,
     "end_time": "2025-06-20T06:02:51.963706",
     "exception": false,
     "start_time": "2025-06-20T06:02:51.889434",
     "status": "completed"
    },
    "tags": []
   },
   "outputs": [],
   "source": [
    "device = \"cuda\" if torch.cuda.is_available() else \"cpu\""
   ]
  },
  {
   "cell_type": "code",
   "execution_count": 31,
   "id": "2bd4e5a8",
   "metadata": {
    "execution": {
     "iopub.execute_input": "2025-06-20T06:02:51.983124Z",
     "iopub.status.busy": "2025-06-20T06:02:51.982895Z",
     "iopub.status.idle": "2025-06-20T06:03:13.394675Z",
     "shell.execute_reply": "2025-06-20T06:03:13.394018Z"
    },
    "id": "j_ovU5k_FQvH",
    "papermill": {
     "duration": 21.422716,
     "end_time": "2025-06-20T06:03:13.395837",
     "exception": false,
     "start_time": "2025-06-20T06:02:51.973121",
     "status": "completed"
    },
    "tags": []
   },
   "outputs": [
    {
     "name": "stderr",
     "output_type": "stream",
     "text": [
      "2025-06-20 06:03:02.638321: E external/local_xla/xla/stream_executor/cuda/cuda_fft.cc:477] Unable to register cuFFT factory: Attempting to register factory for plugin cuFFT when one has already been registered\n",
      "WARNING: All log messages before absl::InitializeLog() is called are written to STDERR\n",
      "E0000 00:00:1750399382.820257      19 cuda_dnn.cc:8310] Unable to register cuDNN factory: Attempting to register factory for plugin cuDNN when one has already been registered\n",
      "E0000 00:00:1750399382.875548      19 cuda_blas.cc:1418] Unable to register cuBLAS factory: Attempting to register factory for plugin cuBLAS when one has already been registered\n",
      "Some weights of RobertaModel were not initialized from the model checkpoint at /kaggle/input/pretrained_heartbert/transformers/pt20k_250/1/model and are newly initialized: ['pooler.dense.bias', 'pooler.dense.weight']\n",
      "You should probably TRAIN this model on a down-stream task to be able to use it for predictions and inference.\n"
     ]
    }
   ],
   "source": [
    "bert_model = AutoModel.from_pretrained(\"/kaggle/input/pretrained_heartbert/transformers/pt20k_250/1/model\")"
   ]
  },
  {
   "cell_type": "code",
   "execution_count": 32,
   "id": "7e23483f",
   "metadata": {
    "execution": {
     "iopub.execute_input": "2025-06-20T06:03:13.416425Z",
     "iopub.status.busy": "2025-06-20T06:03:13.415654Z",
     "iopub.status.idle": "2025-06-20T06:03:16.712609Z",
     "shell.execute_reply": "2025-06-20T06:03:16.711981Z"
    },
    "id": "SvpgO2WaO06I",
    "papermill": {
     "duration": 3.308363,
     "end_time": "2025-06-20T06:03:16.713936",
     "exception": false,
     "start_time": "2025-06-20T06:03:13.405573",
     "status": "completed"
    },
    "tags": []
   },
   "outputs": [],
   "source": [
    "bert_model = bert_model.to(device)"
   ]
  },
  {
   "cell_type": "code",
   "execution_count": 33,
   "id": "742e8e1f",
   "metadata": {
    "execution": {
     "iopub.execute_input": "2025-06-20T06:03:16.733945Z",
     "iopub.status.busy": "2025-06-20T06:03:16.733691Z",
     "iopub.status.idle": "2025-06-20T06:03:16.739375Z",
     "shell.execute_reply": "2025-06-20T06:03:16.738805Z"
    },
    "id": "n133rpUCyZ-B",
    "papermill": {
     "duration": 0.016708,
     "end_time": "2025-06-20T06:03:16.740385",
     "exception": false,
     "start_time": "2025-06-20T06:03:16.723677",
     "status": "completed"
    },
    "tags": []
   },
   "outputs": [
    {
     "data": {
      "text/plain": [
       "RobertaModel(\n",
       "  (embeddings): RobertaEmbeddings(\n",
       "    (word_embeddings): Embedding(52000, 768, padding_idx=1)\n",
       "    (position_embeddings): Embedding(514, 768, padding_idx=1)\n",
       "    (token_type_embeddings): Embedding(1, 768)\n",
       "    (LayerNorm): LayerNorm((768,), eps=1e-12, elementwise_affine=True)\n",
       "    (dropout): Dropout(p=0.1, inplace=False)\n",
       "  )\n",
       "  (encoder): RobertaEncoder(\n",
       "    (layer): ModuleList(\n",
       "      (0-5): 6 x RobertaLayer(\n",
       "        (attention): RobertaAttention(\n",
       "          (self): RobertaSdpaSelfAttention(\n",
       "            (query): Linear(in_features=768, out_features=768, bias=True)\n",
       "            (key): Linear(in_features=768, out_features=768, bias=True)\n",
       "            (value): Linear(in_features=768, out_features=768, bias=True)\n",
       "            (dropout): Dropout(p=0.1, inplace=False)\n",
       "          )\n",
       "          (output): RobertaSelfOutput(\n",
       "            (dense): Linear(in_features=768, out_features=768, bias=True)\n",
       "            (LayerNorm): LayerNorm((768,), eps=1e-12, elementwise_affine=True)\n",
       "            (dropout): Dropout(p=0.1, inplace=False)\n",
       "          )\n",
       "        )\n",
       "        (intermediate): RobertaIntermediate(\n",
       "          (dense): Linear(in_features=768, out_features=3072, bias=True)\n",
       "          (intermediate_act_fn): GELUActivation()\n",
       "        )\n",
       "        (output): RobertaOutput(\n",
       "          (dense): Linear(in_features=3072, out_features=768, bias=True)\n",
       "          (LayerNorm): LayerNorm((768,), eps=1e-12, elementwise_affine=True)\n",
       "          (dropout): Dropout(p=0.1, inplace=False)\n",
       "        )\n",
       "      )\n",
       "    )\n",
       "  )\n",
       "  (pooler): RobertaPooler(\n",
       "    (dense): Linear(in_features=768, out_features=768, bias=True)\n",
       "    (activation): Tanh()\n",
       "  )\n",
       ")"
      ]
     },
     "execution_count": 33,
     "metadata": {},
     "output_type": "execute_result"
    }
   ],
   "source": [
    "bert_model.eval()"
   ]
  },
  {
   "cell_type": "code",
   "execution_count": 34,
   "id": "ce4b1182",
   "metadata": {
    "execution": {
     "iopub.execute_input": "2025-06-20T06:03:16.760293Z",
     "iopub.status.busy": "2025-06-20T06:03:16.760028Z",
     "iopub.status.idle": "2025-06-20T06:03:16.763750Z",
     "shell.execute_reply": "2025-06-20T06:03:16.763218Z"
    },
    "id": "Kr2lzUUCL3Is",
    "papermill": {
     "duration": 0.014958,
     "end_time": "2025-06-20T06:03:16.764797",
     "exception": false,
     "start_time": "2025-06-20T06:03:16.749839",
     "status": "completed"
    },
    "tags": []
   },
   "outputs": [],
   "source": [
    "for param in bert_model.parameters():\n",
    "  param.requires_grad = False"
   ]
  },
  {
   "cell_type": "code",
   "execution_count": 35,
   "id": "5aab86ef",
   "metadata": {
    "execution": {
     "iopub.execute_input": "2025-06-20T06:03:16.784735Z",
     "iopub.status.busy": "2025-06-20T06:03:16.784512Z",
     "iopub.status.idle": "2025-06-20T06:03:16.787646Z",
     "shell.execute_reply": "2025-06-20T06:03:16.787071Z"
    },
    "id": "-8-Cp5p8xUbE",
    "papermill": {
     "duration": 0.014469,
     "end_time": "2025-06-20T06:03:16.788762",
     "exception": false,
     "start_time": "2025-06-20T06:03:16.774293",
     "status": "completed"
    },
    "tags": []
   },
   "outputs": [],
   "source": [
    "batch_size = 8"
   ]
  },
  {
   "cell_type": "code",
   "execution_count": 36,
   "id": "56bbf970",
   "metadata": {
    "execution": {
     "iopub.execute_input": "2025-06-20T06:03:16.809534Z",
     "iopub.status.busy": "2025-06-20T06:03:16.809306Z",
     "iopub.status.idle": "2025-06-20T06:03:16.818999Z",
     "shell.execute_reply": "2025-06-20T06:03:16.818254Z"
    },
    "id": "LR64qTZ-f8YP",
    "papermill": {
     "duration": 0.021789,
     "end_time": "2025-06-20T06:03:16.820117",
     "exception": false,
     "start_time": "2025-06-20T06:03:16.798328",
     "status": "completed"
    },
    "tags": []
   },
   "outputs": [],
   "source": [
    "dataset_ = TensorDataset(torch.tensor(input_ids_train), torch.tensor(labels_train),\n",
    "                         torch.tensor(attention_masks_train))\n",
    "dataloader = DataLoader(dataset_, batch_size=batch_size, shuffle = True)"
   ]
  },
  {
   "cell_type": "code",
   "execution_count": 37,
   "id": "325d10e4",
   "metadata": {
    "execution": {
     "iopub.execute_input": "2025-06-20T06:03:16.841304Z",
     "iopub.status.busy": "2025-06-20T06:03:16.841038Z",
     "iopub.status.idle": "2025-06-20T06:03:16.845476Z",
     "shell.execute_reply": "2025-06-20T06:03:16.844805Z"
    },
    "id": "p_EFjQh5gS9F",
    "papermill": {
     "duration": 0.016215,
     "end_time": "2025-06-20T06:03:16.846539",
     "exception": false,
     "start_time": "2025-06-20T06:03:16.830324",
     "status": "completed"
    },
    "tags": []
   },
   "outputs": [],
   "source": [
    "dataset_valid = TensorDataset(torch.tensor(input_ids_val), torch.tensor(labels_val),\n",
    "                          torch.tensor(attention_masks_val))\n",
    "dataloader_valid = DataLoader(dataset_valid, batch_size=batch_size, shuffle = True)"
   ]
  },
  {
   "cell_type": "code",
   "execution_count": 38,
   "id": "4d4f1272",
   "metadata": {
    "execution": {
     "iopub.execute_input": "2025-06-20T06:03:16.866948Z",
     "iopub.status.busy": "2025-06-20T06:03:16.866737Z",
     "iopub.status.idle": "2025-06-20T06:03:16.870683Z",
     "shell.execute_reply": "2025-06-20T06:03:16.870103Z"
    },
    "id": "aKObaAVmgUql",
    "papermill": {
     "duration": 0.01525,
     "end_time": "2025-06-20T06:03:16.871708",
     "exception": false,
     "start_time": "2025-06-20T06:03:16.856458",
     "status": "completed"
    },
    "tags": []
   },
   "outputs": [],
   "source": [
    "dataset_test = TensorDataset(torch.tensor(input_ids_test), torch.tensor(labels_test),\n",
    "                          torch.tensor(attention_masks_test))\n",
    "dataloader_test = DataLoader(dataset_test, batch_size=batch_size, shuffle = False)"
   ]
  },
  {
   "cell_type": "code",
   "execution_count": 39,
   "id": "2de92ed5",
   "metadata": {
    "execution": {
     "iopub.execute_input": "2025-06-20T06:03:16.892589Z",
     "iopub.status.busy": "2025-06-20T06:03:16.892340Z",
     "iopub.status.idle": "2025-06-20T06:03:16.896924Z",
     "shell.execute_reply": "2025-06-20T06:03:16.896176Z"
    },
    "papermill": {
     "duration": 0.016799,
     "end_time": "2025-06-20T06:03:16.898110",
     "exception": false,
     "start_time": "2025-06-20T06:03:16.881311",
     "status": "completed"
    },
    "tags": []
   },
   "outputs": [
    {
     "data": {
      "text/plain": [
       "364"
      ]
     },
     "execution_count": 39,
     "metadata": {},
     "output_type": "execute_result"
    }
   ],
   "source": [
    "len(dataset_test)"
   ]
  },
  {
   "cell_type": "markdown",
   "id": "4be90280",
   "metadata": {
    "id": "HOdVKiqgW_KC",
    "papermill": {
     "duration": 0.009525,
     "end_time": "2025-06-20T06:03:16.917187",
     "exception": false,
     "start_time": "2025-06-20T06:03:16.907662",
     "status": "completed"
    },
    "tags": []
   },
   "source": [
    "# BertBiLSTMClassifier"
   ]
  },
  {
   "cell_type": "code",
   "execution_count": 40,
   "id": "2806ccfa",
   "metadata": {
    "execution": {
     "iopub.execute_input": "2025-06-20T06:03:16.937699Z",
     "iopub.status.busy": "2025-06-20T06:03:16.937443Z",
     "iopub.status.idle": "2025-06-20T06:03:16.943458Z",
     "shell.execute_reply": "2025-06-20T06:03:16.942777Z"
    },
    "id": "bNPHcnS-7_75",
    "papermill": {
     "duration": 0.01783,
     "end_time": "2025-06-20T06:03:16.944597",
     "exception": false,
     "start_time": "2025-06-20T06:03:16.926767",
     "status": "completed"
    },
    "tags": []
   },
   "outputs": [],
   "source": [
    "class BertBiLSTMClassifier(nn.Module):\n",
    "    def __init__(self, num_classes, bert_frozen_layers=3, input_size=768, lstm_hidden_size=128):\n",
    "        # you can set bert_frozen_layers to an arbitrary number\n",
    "        super(BertBiLSTMClassifier, self).__init__()\n",
    "\n",
    "        # HeartBERT model with frozen layers\n",
    "        self.bert = AutoModel.from_pretrained(pretrained_model_name_or_path=\"/kaggle/input/pretrained_heartbert/transformers/pt20k_250/1/model\")\n",
    "\n",
    "        modules = [self.bert.embeddings, *self.bert.encoder.layer[:bert_frozen_layers]]\n",
    "        for module in modules:\n",
    "          for param in module.parameters():\n",
    "            param.requires_grad = False\n",
    "        # Bi-LSTM layer\n",
    "        self.lstm = nn.LSTM(input_size=input_size, hidden_size=lstm_hidden_size, bidirectional=True, batch_first=True)\n",
    "\n",
    "        # Fully connected layer for classification\n",
    "        self.fc = nn.Linear(lstm_hidden_size * 2, 1)\n",
    "        self.sigmoid = nn.Sigmoid()\n",
    "      #  self.softmax = nn.Softmax(dim=1)\n",
    "    \n",
    "\n",
    "    def forward(self, input_ids):\n",
    "        # BERT forward pass\n",
    "        bert_output = self.bert(input_ids)[0]\n",
    "        # Bi-LSTM forward pass\n",
    "        lstm_out, _ = self.lstm(bert_output)\n",
    "        # Use the last hidden state from Bi-LSTM\n",
    "        lstm_last_hidden_state = lstm_out[:, -1, :]\n",
    "        # Classification using fully connected layer\n",
    "        logit = self.fc(lstm_last_hidden_state)\n",
    "        res = self.sigmoid(logit)\n",
    "\n",
    "      #  res = self.softmax(logits)\n",
    "\n",
    "        return res.squeeze(-1)"
   ]
  },
  {
   "cell_type": "code",
   "execution_count": 41,
   "id": "35f75905",
   "metadata": {
    "execution": {
     "iopub.execute_input": "2025-06-20T06:03:16.964660Z",
     "iopub.status.busy": "2025-06-20T06:03:16.964430Z",
     "iopub.status.idle": "2025-06-20T06:03:17.238850Z",
     "shell.execute_reply": "2025-06-20T06:03:17.238244Z"
    },
    "id": "0fmIo3rS9HBn",
    "papermill": {
     "duration": 0.285882,
     "end_time": "2025-06-20T06:03:17.240128",
     "exception": false,
     "start_time": "2025-06-20T06:03:16.954246",
     "status": "completed"
    },
    "tags": []
   },
   "outputs": [
    {
     "name": "stderr",
     "output_type": "stream",
     "text": [
      "Some weights of RobertaModel were not initialized from the model checkpoint at /kaggle/input/pretrained_heartbert/transformers/pt20k_250/1/model and are newly initialized: ['pooler.dense.bias', 'pooler.dense.weight']\n",
      "You should probably TRAIN this model on a down-stream task to be able to use it for predictions and inference.\n"
     ]
    }
   ],
   "source": [
    "model = BertBiLSTMClassifier(2)\n",
    "model = model.to(device)"
   ]
  },
  {
   "cell_type": "code",
   "execution_count": 42,
   "id": "663728ab",
   "metadata": {
    "execution": {
     "iopub.execute_input": "2025-06-20T06:03:17.260978Z",
     "iopub.status.busy": "2025-06-20T06:03:17.260530Z",
     "iopub.status.idle": "2025-06-20T06:03:17.265844Z",
     "shell.execute_reply": "2025-06-20T06:03:17.265042Z"
    },
    "id": "ZioFSxiHsHXS",
    "papermill": {
     "duration": 0.017104,
     "end_time": "2025-06-20T06:03:17.267230",
     "exception": false,
     "start_time": "2025-06-20T06:03:17.250126",
     "status": "completed"
    },
    "tags": []
   },
   "outputs": [
    {
     "data": {
      "text/plain": [
       "22774017"
      ]
     },
     "execution_count": 42,
     "metadata": {},
     "output_type": "execute_result"
    }
   ],
   "source": [
    "trainable_params = sum(p.numel() for p in model.parameters() if p.requires_grad)\n",
    "trainable_params"
   ]
  },
  {
   "cell_type": "code",
   "execution_count": 43,
   "id": "d43ba73a",
   "metadata": {
    "execution": {
     "iopub.execute_input": "2025-06-20T06:03:17.287311Z",
     "iopub.status.busy": "2025-06-20T06:03:17.287084Z",
     "iopub.status.idle": "2025-06-20T06:03:17.291045Z",
     "shell.execute_reply": "2025-06-20T06:03:17.290394Z"
    },
    "id": "3NeBRPEiPTfA",
    "papermill": {
     "duration": 0.015142,
     "end_time": "2025-06-20T06:03:17.292133",
     "exception": false,
     "start_time": "2025-06-20T06:03:17.276991",
     "status": "completed"
    },
    "tags": []
   },
   "outputs": [],
   "source": [
    "criterion = nn.BCELoss()\n",
    "optimizer = optim.Adam(model.parameters(), lr=5e-6) # setup the proper lr\n",
    "# lr=1e-6 40 epoch маловато, очень медленно, test loss 0.5638710278798552"
   ]
  },
  {
   "cell_type": "markdown",
   "id": "7facc705",
   "metadata": {
    "id": "WoldsV_pGJ_I",
    "papermill": {
     "duration": 0.009271,
     "end_time": "2025-06-20T06:03:17.310792",
     "exception": false,
     "start_time": "2025-06-20T06:03:17.301521",
     "status": "completed"
    },
    "tags": []
   },
   "source": [
    "# Metrics"
   ]
  },
  {
   "cell_type": "code",
   "execution_count": 44,
   "id": "ff8109c8",
   "metadata": {
    "execution": {
     "iopub.execute_input": "2025-06-20T06:03:17.330674Z",
     "iopub.status.busy": "2025-06-20T06:03:17.330452Z",
     "iopub.status.idle": "2025-06-20T06:03:17.592805Z",
     "shell.execute_reply": "2025-06-20T06:03:17.592016Z"
    },
    "papermill": {
     "duration": 0.273959,
     "end_time": "2025-06-20T06:03:17.594223",
     "exception": false,
     "start_time": "2025-06-20T06:03:17.320264",
     "status": "completed"
    },
    "tags": []
   },
   "outputs": [],
   "source": [
    "from sklearn.metrics import precision_recall_fscore_support, accuracy_score, confusion_matrix\n",
    "import seaborn as sns\n",
    "import matplotlib.pyplot as plt\n",
    "\n",
    "def compute_metrics(predictions, labels):\n",
    "    # Преобразуем в бинарные предсказания (если нужно)\n",
    "    predictions = (predictions > 0.5).cpu().numpy()\n",
    "    labels = labels.cpu().numpy()\n",
    "    \n",
    "    # Вычисление метрик\n",
    "    precision, recall, f1, _ = precision_recall_fscore_support(labels, predictions, average=None, zero_division=0)\n",
    "    accuracy = accuracy_score(labels, predictions)\n",
    "\n",
    "    print(\"Class-wise Metrics:\")\n",
    "    for i in range(len(precision)):\n",
    "        print(f\"Class {i}: Precision={precision[i]:.4f}, Recall={recall[i]:.4f}, F1={f1[i]:.4f}\")\n",
    "\n",
    "    print(\"\\nAccuracy:\")\n",
    "    print(f\"Accuracy={accuracy:.4f}\")\n",
    "\n",
    "def display_confusion_matrix(eval_pred, labels):\n",
    "    num_classes = 2\n",
    "\n",
    "    predictions = eval_pred.cpu().numpy()  # Перенос на CPU и преобразование в numpy\n",
    "    predictions = (predictions > 0.5).astype(int)  # Преобразование в 0 или 1\n",
    "\n",
    "    # predictions = np.argmax(eval_pred, axis=-1)\n",
    "    # predictions = eval_pred.cpu().numpy()\n",
    "    # predictions = (predictions > 0.5).cpu().numpy()\n",
    "    print(f\"Length of predictions: {len(predictions)}\")\n",
    "    print(f\"Length of labels: {len(labels)}\")\n",
    "\n",
    "    cm = confusion_matrix(labels, predictions)\n",
    "\n",
    "    # Plot confusion matrix\n",
    "    plt.figure(figsize=(num_classes*5, num_classes*5))\n",
    "\n",
    "    sns.heatmap(cm, annot=True, fmt=\"d\", cmap=\"RdPu\", cbar=False,\n",
    "                xticklabels=np.arange(1, num_classes+1),\n",
    "                yticklabels=np.arange(1, num_classes+1))\n",
    "\n",
    "    plt.xlabel('Predicted')\n",
    "    plt.ylabel('Actual')\n",
    "    plt.title('Confusion Matrix')\n",
    "    plt.show()\n"
   ]
  },
  {
   "cell_type": "code",
   "execution_count": 45,
   "id": "1cdf3fa8",
   "metadata": {
    "execution": {
     "iopub.execute_input": "2025-06-20T06:03:17.615035Z",
     "iopub.status.busy": "2025-06-20T06:03:17.614798Z",
     "iopub.status.idle": "2025-06-20T06:03:17.618384Z",
     "shell.execute_reply": "2025-06-20T06:03:17.617850Z"
    },
    "id": "tclmuyY8aofz",
    "papermill": {
     "duration": 0.014932,
     "end_time": "2025-06-20T06:03:17.619432",
     "exception": false,
     "start_time": "2025-06-20T06:03:17.604500",
     "status": "completed"
    },
    "tags": []
   },
   "outputs": [],
   "source": [
    "# from sklearn.metrics import precision_recall_fscore_support, accuracy_score, confusion_matrix\n",
    "# import seaborn as sns\n",
    "# import matplotlib.pyplot as plt\n",
    "\n",
    "# def compute_metrics(eval_pred, labels):\n",
    "\n",
    "#     predictions = np.argmax(eval_pred, axis=-1)\n",
    "\n",
    "#     # Compute precision, recall, F1, and accuracy\n",
    "#     precision, recall, f1, _ = precision_recall_fscore_support(labels, predictions, average=None)\n",
    "#     accuracy = accuracy_score(labels, predictions)\n",
    "\n",
    "#     # Compute micro and macro averages\n",
    "#     micro_precision, micro_recall, micro_f1, _ = precision_recall_fscore_support(labels, predictions, average='micro')\n",
    "#     macro_precision, macro_recall, macro_f1, _ = precision_recall_fscore_support(labels, predictions, average='macro')\n",
    "\n",
    "#     print(\"Class-wise Metrics:\")\n",
    "#     for i in range(len(precision)):\n",
    "#         print(f\"Class {i+1}: Precision={precision[i]:.4f}, Recall={recall[i]:.4f}, F1={f1[i]:.4f}\")\n",
    "\n",
    "#     print(\"\\nMicro Average Metrics:\")\n",
    "#     print(f\"Precision={micro_precision:.4f}, Recall={micro_recall:.4f}, F1={micro_f1:.4f}\")\n",
    "\n",
    "#     print(\"\\nMacro Average Metrics:\")\n",
    "#     print(f\"Precision={macro_precision:.4f}, Recall={macro_recall:.4f}, F1={macro_f1:.4f}\")\n",
    "\n",
    "#     print(\"\\nAccuracy:\")\n",
    "#     print(f\"Accuracy={accuracy:.4f}\")\n",
    "\n",
    "# def display_confusion_matrix(eval_pred, labels):\n",
    "#     num_classes = 2\n",
    "\n",
    "#     predictions = np.argmax(eval_pred, axis=-1)\n",
    "\n",
    "#     cm = confusion_matrix(labels, predictions)\n",
    "\n",
    "#     # Plot confusion matrix\n",
    "#     plt.figure(figsize=(num_classes, num_classes))\n",
    "\n",
    "#     sns.heatmap(cm, annot=True, fmt=\"d\", cmap=\"Blues\", cbar=False,\n",
    "#                 xticklabels=np.arange(1, num_classes+1),\n",
    "#                 yticklabels=np.arange(1, num_classes+1))\n",
    "\n",
    "#     plt.xlabel('Predicted')\n",
    "#     plt.ylabel('Actual')\n",
    "#     plt.title('Confusion Matrix')\n",
    "#     plt.show()\n"
   ]
  },
  {
   "cell_type": "markdown",
   "id": "3ace7a5e",
   "metadata": {
    "id": "5JFeAu-0n1g3",
    "papermill": {
     "duration": 0.010567,
     "end_time": "2025-06-20T06:03:17.639601",
     "exception": false,
     "start_time": "2025-06-20T06:03:17.629034",
     "status": "completed"
    },
    "tags": []
   },
   "source": [
    "# Train"
   ]
  },
  {
   "cell_type": "code",
   "execution_count": 46,
   "id": "88b49472",
   "metadata": {
    "execution": {
     "iopub.execute_input": "2025-06-20T06:03:17.660701Z",
     "iopub.status.busy": "2025-06-20T06:03:17.660494Z",
     "iopub.status.idle": "2025-06-20T06:03:17.663718Z",
     "shell.execute_reply": "2025-06-20T06:03:17.663156Z"
    },
    "id": "sjov9JAXPeEA",
    "papermill": {
     "duration": 0.015778,
     "end_time": "2025-06-20T06:03:17.664690",
     "exception": false,
     "start_time": "2025-06-20T06:03:17.648912",
     "status": "completed"
    },
    "tags": []
   },
   "outputs": [],
   "source": [
    "loss_epoch_train = []\n",
    "loss_epoch_valid = []\n",
    "num_epochs = 20"
   ]
  },
  {
   "cell_type": "code",
   "execution_count": 47,
   "id": "1b06c752",
   "metadata": {
    "execution": {
     "iopub.execute_input": "2025-06-20T06:03:17.684328Z",
     "iopub.status.busy": "2025-06-20T06:03:17.684103Z",
     "iopub.status.idle": "2025-06-20T06:14:02.164143Z",
     "shell.execute_reply": "2025-06-20T06:14:02.163243Z"
    },
    "id": "GlBLq8OhkAuC",
    "papermill": {
     "duration": 644.491411,
     "end_time": "2025-06-20T06:14:02.165513",
     "exception": false,
     "start_time": "2025-06-20T06:03:17.674102",
     "status": "completed"
    },
    "tags": []
   },
   "outputs": [
    {
     "name": "stderr",
     "output_type": "stream",
     "text": [
      "We strongly recommend passing in an `attention_mask` since your input_ids may be padded. See https://huggingface.co/docs/transformers/troubleshooting#incorrect-output-when-padding-tokens-arent-masked.\n"
     ]
    },
    {
     "name": "stdout",
     "output_type": "stream",
     "text": [
      "train-loss 0 : 0.6275501646710642\n",
      "[0.6632573 0.        0.        0.        0.        0.        0.\n",
      " 0.        0.        0.        0.        0.        0.        0.\n",
      " 0.        0.        0.        0.        0.        0.       ] [0.79558009 0.         0.         0.         0.         0.\n",
      " 0.         0.         0.         0.         0.         0.\n",
      " 0.         0.         0.         0.         0.         0.\n",
      " 0.         0.        ]\n",
      "valid-loss 0 : 0.5232454045959141\n",
      "**********\n",
      "train-loss 1 : 0.5774036972027905\n",
      "[0.6632573  0.71675843 0.         0.         0.         0.\n",
      " 0.         0.         0.         0.         0.         0.\n",
      " 0.         0.         0.         0.         0.         0.\n",
      " 0.         0.        ] [0.79558009 0.77900553 0.         0.         0.         0.\n",
      " 0.         0.         0.         0.         0.         0.\n",
      " 0.         0.         0.         0.         0.         0.\n",
      " 0.         0.        ]\n",
      "valid-loss 1 : 0.5001032417235167\n",
      "**********\n",
      "train-loss 2 : 0.5623352870626269\n",
      "[0.6632573  0.71675843 0.7136113  0.         0.         0.\n",
      " 0.         0.         0.         0.         0.         0.\n",
      " 0.         0.         0.         0.         0.         0.\n",
      " 0.         0.        ] [0.79558009 0.77900553 0.7845304  0.         0.         0.\n",
      " 0.         0.         0.         0.         0.         0.\n",
      " 0.         0.         0.         0.         0.         0.\n",
      " 0.         0.        ]\n",
      "valid-loss 2 : 0.4881951446118562\n",
      "**********\n",
      "train-loss 3 : 0.5483150958265148\n",
      "[0.6632573  0.71675843 0.7136113  0.72856021 0.         0.\n",
      " 0.         0.         0.         0.         0.         0.\n",
      " 0.         0.         0.         0.         0.         0.\n",
      " 0.         0.        ] [0.79558009 0.77900553 0.7845304  0.79005527 0.         0.\n",
      " 0.         0.         0.         0.         0.         0.\n",
      " 0.         0.         0.         0.         0.         0.\n",
      " 0.         0.        ]\n",
      "valid-loss 3 : 0.48175527868063556\n",
      "**********\n",
      "train-loss 4 : 0.5373066798695978\n",
      "[0.6632573  0.71675843 0.7136113  0.72856021 0.74272227 0.\n",
      " 0.         0.         0.         0.         0.         0.\n",
      " 0.         0.         0.         0.         0.         0.\n",
      " 0.         0.        ] [0.79558009 0.77900553 0.7845304  0.79005527 0.79558009 0.\n",
      " 0.         0.         0.         0.         0.         0.\n",
      " 0.         0.         0.         0.         0.         0.\n",
      " 0.         0.        ]\n",
      "valid-loss 4 : 0.4558690812276757\n",
      "**********\n",
      "train-loss 5 : 0.512065368159762\n",
      "[0.6632573  0.71675843 0.7136113  0.72856021 0.74272227 0.76475215\n",
      " 0.         0.         0.         0.         0.         0.\n",
      " 0.         0.         0.         0.         0.         0.\n",
      " 0.         0.        ] [0.79558009 0.77900553 0.7845304  0.79005527 0.79558009 0.79005527\n",
      " 0.         0.         0.         0.         0.         0.\n",
      " 0.         0.         0.         0.         0.         0.\n",
      " 0.         0.        ]\n",
      "valid-loss 5 : 0.451936186655708\n",
      "**********\n",
      "train-loss 6 : 0.49128341506112294\n",
      "[0.6632573  0.71675843 0.7136113  0.72856021 0.74272227 0.76475215\n",
      " 0.77891421 0.         0.         0.         0.         0.\n",
      " 0.         0.         0.         0.         0.         0.\n",
      " 0.         0.        ] [0.79558009 0.77900553 0.7845304  0.79005527 0.79558009 0.79005527\n",
      " 0.8232044  0.         0.         0.         0.         0.\n",
      " 0.         0.         0.         0.         0.         0.\n",
      " 0.         0.        ]\n",
      "valid-loss 6 : 0.4361498958390692\n",
      "**********\n",
      "train-loss 7 : 0.46841546968094205\n",
      "[0.6632573  0.71675843 0.7136113  0.72856021 0.74272227 0.76475215\n",
      " 0.77891421 0.79701024 0.         0.         0.         0.\n",
      " 0.         0.         0.         0.         0.         0.\n",
      " 0.         0.        ] [0.79558009 0.77900553 0.7845304  0.79005527 0.79558009 0.79005527\n",
      " 0.8232044  0.80662984 0.         0.         0.         0.\n",
      " 0.         0.         0.         0.         0.         0.\n",
      " 0.         0.        ]\n",
      "valid-loss 7 : 0.4229395875464315\n",
      "**********\n",
      "train-loss 8 : 0.44216512565342886\n",
      "[0.6632573  0.71675843 0.7136113  0.72856021 0.74272227 0.76475215\n",
      " 0.77891421 0.79701024 0.82061368 0.         0.         0.\n",
      " 0.         0.         0.         0.         0.         0.\n",
      " 0.         0.        ] [0.79558009 0.77900553 0.7845304  0.79005527 0.79558009 0.79005527\n",
      " 0.8232044  0.80662984 0.81215471 0.         0.         0.\n",
      " 0.         0.         0.         0.         0.         0.\n",
      " 0.         0.        ]\n",
      "valid-loss 8 : 0.41613262503043463\n",
      "**********\n",
      "train-loss 9 : 0.415556197552561\n",
      "[0.6632573  0.71675843 0.7136113  0.72856021 0.74272227 0.76475215\n",
      " 0.77891421 0.79701024 0.82061368 0.84343034 0.         0.\n",
      " 0.         0.         0.         0.         0.         0.\n",
      " 0.         0.        ] [0.79558009 0.77900553 0.7845304  0.79005527 0.79558009 0.79005527\n",
      " 0.8232044  0.80662984 0.81215471 0.80110496 0.         0.\n",
      " 0.         0.         0.         0.         0.         0.\n",
      " 0.         0.        ]\n",
      "valid-loss 9 : 0.4412629824617635\n",
      "**********\n",
      "train-loss 10 : 0.38755902469907916\n",
      "[0.6632573  0.71675843 0.7136113  0.72856021 0.74272227 0.76475215\n",
      " 0.77891421 0.79701024 0.82061368 0.84343034 0.84972465 0.\n",
      " 0.         0.         0.         0.         0.         0.\n",
      " 0.         0.        ] [0.79558009 0.77900553 0.7845304  0.79005527 0.79558009 0.79005527\n",
      " 0.8232044  0.80662984 0.81215471 0.80110496 0.81215471 0.\n",
      " 0.         0.         0.         0.         0.         0.\n",
      " 0.         0.        ]\n",
      "valid-loss 10 : 0.408667728304863\n",
      "**********\n",
      "train-loss 11 : 0.35978707666479565\n",
      "[0.6632573  0.71675843 0.7136113  0.72856021 0.74272227 0.76475215\n",
      " 0.77891421 0.79701024 0.82061368 0.84343034 0.84972465 0.87332809\n",
      " 0.         0.         0.         0.         0.         0.\n",
      " 0.         0.        ] [0.79558009 0.77900553 0.7845304  0.79005527 0.79558009 0.79005527\n",
      " 0.8232044  0.80662984 0.81215471 0.80110496 0.81215471 0.77900553\n",
      " 0.         0.         0.         0.         0.         0.\n",
      " 0.         0.        ]\n",
      "valid-loss 11 : 0.43035775876563526\n",
      "**********\n",
      "train-loss 12 : 0.35055975344196055\n",
      "[0.6632573  0.71675843 0.7136113  0.72856021 0.74272227 0.76475215\n",
      " 0.77891421 0.79701024 0.82061368 0.84343034 0.84972465 0.87332809\n",
      " 0.86546028 0.         0.         0.         0.         0.\n",
      " 0.         0.        ] [0.79558009 0.77900553 0.7845304  0.79005527 0.79558009 0.79005527\n",
      " 0.8232044  0.80662984 0.81215471 0.80110496 0.81215471 0.77900553\n",
      " 0.8232044  0.         0.         0.         0.         0.\n",
      " 0.         0.        ]\n",
      "valid-loss 12 : 0.4257233981852946\n",
      "**********\n",
      "train-loss 13 : 0.31329742701923324\n",
      "[0.6632573  0.71675843 0.7136113  0.72856021 0.74272227 0.76475215\n",
      " 0.77891421 0.79701024 0.82061368 0.84343034 0.84972465 0.87332809\n",
      " 0.86546028 0.89063728 0.         0.         0.         0.\n",
      " 0.         0.        ] [0.79558009 0.77900553 0.7845304  0.79005527 0.79558009 0.79005527\n",
      " 0.8232044  0.80662984 0.81215471 0.80110496 0.81215471 0.77900553\n",
      " 0.8232044  0.79558009 0.         0.         0.         0.\n",
      " 0.         0.        ]\n",
      "valid-loss 13 : 0.4162871750152629\n",
      "**********\n",
      "train-loss 14 : 0.2893131170538986\n",
      "[0.6632573  0.71675843 0.7136113  0.72856021 0.74272227 0.76475215\n",
      " 0.77891421 0.79701024 0.82061368 0.84343034 0.84972465 0.87332809\n",
      " 0.86546028 0.89063728 0.90086544 0.         0.         0.\n",
      " 0.         0.        ] [0.79558009 0.77900553 0.7845304  0.79005527 0.79558009 0.79005527\n",
      " 0.8232044  0.80662984 0.81215471 0.80110496 0.81215471 0.77900553\n",
      " 0.8232044  0.79558009 0.75690609 0.         0.         0.\n",
      " 0.         0.        ]\n",
      "valid-loss 14 : 0.44028060883283615\n",
      "**********\n",
      "train-loss 15 : 0.2656386018549121\n",
      "[0.6632573  0.71675843 0.7136113  0.72856021 0.74272227 0.76475215\n",
      " 0.77891421 0.79701024 0.82061368 0.84343034 0.84972465 0.87332809\n",
      " 0.86546028 0.89063728 0.90086544 0.91660112 0.         0.\n",
      " 0.         0.        ] [0.79558009 0.77900553 0.7845304  0.79005527 0.79558009 0.79005527\n",
      " 0.8232044  0.80662984 0.81215471 0.80110496 0.81215471 0.77900553\n",
      " 0.8232044  0.79558009 0.75690609 0.80662984 0.         0.\n",
      " 0.         0.        ]\n",
      "valid-loss 15 : 0.45362987660843396\n",
      "**********\n",
      "train-loss 16 : 0.23287475240305536\n",
      "[0.6632573  0.71675843 0.7136113  0.72856021 0.74272227 0.76475215\n",
      " 0.77891421 0.79701024 0.82061368 0.84343034 0.84972465 0.87332809\n",
      " 0.86546028 0.89063728 0.90086544 0.91660112 0.92682928 0.\n",
      " 0.         0.        ] [0.79558009 0.77900553 0.7845304  0.79005527 0.79558009 0.79005527\n",
      " 0.8232044  0.80662984 0.81215471 0.80110496 0.81215471 0.77900553\n",
      " 0.8232044  0.79558009 0.75690609 0.80662984 0.79005527 0.\n",
      " 0.         0.        ]\n",
      "valid-loss 16 : 0.4667970340536988\n",
      "**********\n",
      "train-loss 17 : 0.21878019270469556\n",
      "[0.6632573  0.71675843 0.7136113  0.72856021 0.74272227 0.76475215\n",
      " 0.77891421 0.79701024 0.82061368 0.84343034 0.84972465 0.87332809\n",
      " 0.86546028 0.89063728 0.90086544 0.91660112 0.92682928 0.93391031\n",
      " 0.         0.        ] [0.79558009 0.77900553 0.7845304  0.79005527 0.79558009 0.79005527\n",
      " 0.8232044  0.80662984 0.81215471 0.80110496 0.81215471 0.77900553\n",
      " 0.8232044  0.79558009 0.75690609 0.80662984 0.79005527 0.79005527\n",
      " 0.         0.        ]\n",
      "valid-loss 17 : 0.4689799832261127\n",
      "**********\n",
      "train-loss 18 : 0.19081826409641303\n",
      "[0.6632573  0.71675843 0.7136113  0.72856021 0.74272227 0.76475215\n",
      " 0.77891421 0.79701024 0.82061368 0.84343034 0.84972465 0.87332809\n",
      " 0.86546028 0.89063728 0.90086544 0.91660112 0.92682928 0.93391031\n",
      " 0.95043272 0.        ] [0.79558009 0.77900553 0.7845304  0.79005527 0.79558009 0.79005527\n",
      " 0.8232044  0.80662984 0.81215471 0.80110496 0.81215471 0.77900553\n",
      " 0.8232044  0.79558009 0.75690609 0.80662984 0.79005527 0.79005527\n",
      " 0.80110496 0.        ]\n",
      "valid-loss 18 : 0.4665498150431592\n",
      "**********\n",
      "train-loss 19 : 0.1782117654692452\n",
      "[0.6632573  0.71675843 0.7136113  0.72856021 0.74272227 0.76475215\n",
      " 0.77891421 0.79701024 0.82061368 0.84343034 0.84972465 0.87332809\n",
      " 0.86546028 0.89063728 0.90086544 0.91660112 0.92682928 0.93391031\n",
      " 0.95043272 0.94964594] [0.79558009 0.77900553 0.7845304  0.79005527 0.79558009 0.79005527\n",
      " 0.8232044  0.80662984 0.81215471 0.80110496 0.81215471 0.77900553\n",
      " 0.8232044  0.79558009 0.75690609 0.80662984 0.79005527 0.79005527\n",
      " 0.80110496 0.80110496]\n",
      "valid-loss 19 : 0.483790686758964\n",
      "**********\n"
     ]
    }
   ],
   "source": [
    "from numpy import mean\n",
    "total_train_acc = np.zeros((num_epochs,))\n",
    "total_valid_acc = np.zeros((num_epochs,))\n",
    "for epoch in range(num_epochs):\n",
    "  loss_batch_train = []\n",
    "  correct_train = []\n",
    "  correct_valid = []\n",
    "  accuracy_train = []\n",
    "  model.train()\n",
    "  for batch in dataloader:\n",
    "\n",
    "    inputs, labels, _ = batch\n",
    "\n",
    "    inputs = inputs.to(device)\n",
    "    labels = labels.to(device)\n",
    "    outputs = model(inputs)\n",
    "    # loss = criterion(outputs.to(device), labels.type(torch.LongTensor).to(device))\n",
    "    labels = labels.to(device).float()  \n",
    "    loss = criterion(outputs, labels)\n",
    "    # predicted = torch.argmax(outputs.data, dim=1)\n",
    "    predicted = (outputs > 0.5).long()\n",
    "    correct_train.extend(predicted.eq(labels.to(device).data).float())\n",
    "    optimizer.zero_grad()\n",
    "    loss.backward()\n",
    "    optimizer.step()\n",
    "\n",
    "    loss_batch_train.append(loss.item())\n",
    "\n",
    "  # if (epoch%10==0):\n",
    "  #   torch.save(model.state_dict(), '/content/drive/MyDrive/'+str(epoch)+'.pt')\n",
    "\n",
    "  total_train_acc[epoch] = torch.tensor(correct_train).mean().item()\n",
    "  loss_train_per_epoch = mean(loss_batch_train)\n",
    "  loss_epoch_train.append(loss_train_per_epoch)\n",
    "  print('train-loss',epoch,':', loss_epoch_train[-1])\n",
    "\n",
    "  model.eval()\n",
    "  loss_batch_valid = []\n",
    "\n",
    "  for batch in dataloader_valid:\n",
    "    inputs, labels, _ = batch\n",
    "    inputs = inputs.to(device)\n",
    "    labels = labels.to(device)\n",
    "    outputs = model(inputs)\n",
    "    # loss = criterion(outputs.to(device), labels.type(torch.LongTensor).to(device))\n",
    "    labels = labels.to(device).float()  \n",
    "    outputs = model(inputs)\n",
    "    loss = criterion(outputs, labels)\n",
    "    # predicted = torch.argmax(outputs.data, dim=1)\n",
    "    predicted = (outputs > 0.5).long()\n",
    "    correct_valid.extend(predicted.eq(labels.to(device).data).float())\n",
    "    loss_batch_valid.append(loss.item())\n",
    "\n",
    "  total_valid_acc[epoch] = torch.tensor(correct_valid).mean().item()\n",
    "  loss_valid_per_epoch = mean(loss_batch_valid)\n",
    "  loss_epoch_valid.append(loss_valid_per_epoch)\n",
    "  print(total_train_acc,total_valid_acc)\n",
    "  print('valid-loss',epoch,':',loss_epoch_valid[-1])\n",
    "  print('**********')\n"
   ]
  },
  {
   "cell_type": "code",
   "execution_count": 48,
   "id": "434ad1d1",
   "metadata": {
    "execution": {
     "iopub.execute_input": "2025-06-20T06:14:02.189627Z",
     "iopub.status.busy": "2025-06-20T06:14:02.189402Z",
     "iopub.status.idle": "2025-06-20T06:14:02.193883Z",
     "shell.execute_reply": "2025-06-20T06:14:02.193245Z"
    },
    "id": "fNrT4XQJ0pTJ",
    "papermill": {
     "duration": 0.017755,
     "end_time": "2025-06-20T06:14:02.195026",
     "exception": false,
     "start_time": "2025-06-20T06:14:02.177271",
     "status": "completed"
    },
    "tags": []
   },
   "outputs": [
    {
     "name": "stdout",
     "output_type": "stream",
     "text": [
      "[0.6632573  0.71675843 0.7136113  0.72856021 0.74272227 0.76475215\n",
      " 0.77891421 0.79701024 0.82061368 0.84343034 0.84972465 0.87332809\n",
      " 0.86546028 0.89063728 0.90086544 0.91660112 0.92682928 0.93391031\n",
      " 0.95043272 0.94964594] [0.79558009 0.77900553 0.7845304  0.79005527 0.79558009 0.79005527\n",
      " 0.8232044  0.80662984 0.81215471 0.80110496 0.81215471 0.77900553\n",
      " 0.8232044  0.79558009 0.75690609 0.80662984 0.79005527 0.79005527\n",
      " 0.80110496 0.80110496]\n"
     ]
    }
   ],
   "source": [
    "print(total_train_acc,total_valid_acc)"
   ]
  },
  {
   "cell_type": "markdown",
   "id": "ea433b37",
   "metadata": {
    "id": "VX8bpLvQztZ1",
    "papermill": {
     "duration": 0.011075,
     "end_time": "2025-06-20T06:14:02.217564",
     "exception": false,
     "start_time": "2025-06-20T06:14:02.206489",
     "status": "completed"
    },
    "tags": []
   },
   "source": [
    "## Plot"
   ]
  },
  {
   "cell_type": "code",
   "execution_count": 49,
   "id": "5b65ac70",
   "metadata": {
    "execution": {
     "iopub.execute_input": "2025-06-20T06:14:02.240995Z",
     "iopub.status.busy": "2025-06-20T06:14:02.240567Z",
     "iopub.status.idle": "2025-06-20T06:14:02.244368Z",
     "shell.execute_reply": "2025-06-20T06:14:02.243634Z"
    },
    "papermill": {
     "duration": 0.016928,
     "end_time": "2025-06-20T06:14:02.245586",
     "exception": false,
     "start_time": "2025-06-20T06:14:02.228658",
     "status": "completed"
    },
    "tags": []
   },
   "outputs": [],
   "source": [
    "import matplotlib.pyplot as plt\n",
    "plt.rcParams.update({\n",
    "    'font.family': 'Times New Roman',\n",
    "    'font.size': 16,\n",
    "    'axes.titlesize': 16,\n",
    "    'axes.labelsize': 16,\n",
    "    'xtick.labelsize': 16,\n",
    "    'ytick.labelsize': 16,\n",
    "})"
   ]
  },
  {
   "cell_type": "code",
   "execution_count": 50,
   "id": "6cd5c10a",
   "metadata": {
    "execution": {
     "iopub.execute_input": "2025-06-20T06:14:02.268750Z",
     "iopub.status.busy": "2025-06-20T06:14:02.268553Z",
     "iopub.status.idle": "2025-06-20T06:14:02.514895Z",
     "shell.execute_reply": "2025-06-20T06:14:02.514163Z"
    },
    "id": "pXNF9gthzs6k",
    "papermill": {
     "duration": 0.259356,
     "end_time": "2025-06-20T06:14:02.516103",
     "exception": false,
     "start_time": "2025-06-20T06:14:02.256747",
     "status": "completed"
    },
    "tags": []
   },
   "outputs": [
    {
     "data": {
      "image/png": "[encoded data removed]",
      "text/plain": [
       "<Figure size 640x480 with 1 Axes>"
      ]
     },
     "metadata": {},
     "output_type": "display_data"
    }
   ],
   "source": [
    "import matplotlib.pyplot as plt\n",
    "plt.plot(loss_epoch_train,'r')\n",
    "plt.plot(loss_epoch_valid,'b')\n",
    "plt.title('train-loss vs eval-loss')\n",
    "plt.xlabel('epoch')\n",
    "plt.ylabel('loss')\n",
    "plt.legend(['loss_train','loss_eval']);"
   ]
  },
  {
   "cell_type": "code",
   "execution_count": 51,
   "id": "af61627d",
   "metadata": {
    "execution": {
     "iopub.execute_input": "2025-06-20T06:14:02.540939Z",
     "iopub.status.busy": "2025-06-20T06:14:02.540729Z",
     "iopub.status.idle": "2025-06-20T06:14:02.697283Z",
     "shell.execute_reply": "2025-06-20T06:14:02.696586Z"
    },
    "id": "EzoTirhWLcBN",
    "papermill": {
     "duration": 0.170067,
     "end_time": "2025-06-20T06:14:02.698486",
     "exception": false,
     "start_time": "2025-06-20T06:14:02.528419",
     "status": "completed"
    },
    "tags": []
   },
   "outputs": [
    {
     "data": {
      "text/plain": [
       "<matplotlib.legend.Legend at 0x79dc8c60a250>"
      ]
     },
     "execution_count": 51,
     "metadata": {},
     "output_type": "execute_result"
    },
    {
     "data": {
      "image/png": "[encoded data removed]",
      "text/plain": [
       "<Figure size 640x480 with 1 Axes>"
      ]
     },
     "metadata": {},
     "output_type": "display_data"
    }
   ],
   "source": [
    "plt.plot(total_train_acc, 'r')\n",
    "plt.plot(total_valid_acc, 'b')\n",
    "plt.legend(['total_train_acc', 'total_valid_acc'])"
   ]
  },
  {
   "cell_type": "code",
   "execution_count": 52,
   "id": "c2396bda",
   "metadata": {
    "execution": {
     "iopub.execute_input": "2025-06-20T06:14:02.725291Z",
     "iopub.status.busy": "2025-06-20T06:14:02.724991Z",
     "iopub.status.idle": "2025-06-20T06:14:03.825818Z",
     "shell.execute_reply": "2025-06-20T06:14:03.825242Z"
    },
    "papermill": {
     "duration": 1.115966,
     "end_time": "2025-06-20T06:14:03.827438",
     "exception": false,
     "start_time": "2025-06-20T06:14:02.711472",
     "status": "completed"
    },
    "tags": []
   },
   "outputs": [],
   "source": [
    "torch.save(model,'/kaggle/working/model250.pt')\n",
    "torch.save(model,'/kaggle/working/model2501.pth')"
   ]
  },
  {
   "cell_type": "code",
   "execution_count": 53,
   "id": "6c10770e",
   "metadata": {
    "execution": {
     "iopub.execute_input": "2025-06-20T06:14:03.854054Z",
     "iopub.status.busy": "2025-06-20T06:14:03.853828Z",
     "iopub.status.idle": "2025-06-20T06:14:04.936022Z",
     "shell.execute_reply": "2025-06-20T06:14:04.935498Z"
    },
    "papermill": {
     "duration": 1.097138,
     "end_time": "2025-06-20T06:14:04.937592",
     "exception": false,
     "start_time": "2025-06-20T06:14:03.840454",
     "status": "completed"
    },
    "tags": []
   },
   "outputs": [],
   "source": [
    "torch.save(model.state_dict(), '/kaggle/working/state_dict.pt')\n",
    "torch.save(model.state_dict(), '/kaggle/working/state_dict1.pth')"
   ]
  },
  {
   "cell_type": "code",
   "execution_count": 54,
   "id": "da9143f8",
   "metadata": {
    "execution": {
     "iopub.execute_input": "2025-06-20T06:14:04.965348Z",
     "iopub.status.busy": "2025-06-20T06:14:04.964919Z",
     "iopub.status.idle": "2025-06-20T06:14:04.967926Z",
     "shell.execute_reply": "2025-06-20T06:14:04.967435Z"
    },
    "papermill": {
     "duration": 0.017523,
     "end_time": "2025-06-20T06:14:04.968982",
     "exception": false,
     "start_time": "2025-06-20T06:14:04.951459",
     "status": "completed"
    },
    "tags": []
   },
   "outputs": [],
   "source": [
    "# model_scripted = torch.jit.script(model) \n",
    "# model_scripted.save('/kaggle/working/model_scripted.pt')"
   ]
  },
  {
   "cell_type": "markdown",
   "id": "b6d599f1",
   "metadata": {
    "id": "GwYU7iwav0p1",
    "papermill": {
     "duration": 0.012132,
     "end_time": "2025-06-20T06:14:04.994065",
     "exception": false,
     "start_time": "2025-06-20T06:14:04.981933",
     "status": "completed"
    },
    "tags": []
   },
   "source": [
    "# Test"
   ]
  },
  {
   "cell_type": "code",
   "execution_count": 55,
   "id": "74456072",
   "metadata": {
    "execution": {
     "iopub.execute_input": "2025-06-20T06:14:05.019763Z",
     "iopub.status.busy": "2025-06-20T06:14:05.019560Z",
     "iopub.status.idle": "2025-06-20T06:14:10.869619Z",
     "shell.execute_reply": "2025-06-20T06:14:10.868658Z"
    },
    "id": "DvRZWk0DpxSq",
    "papermill": {
     "duration": 5.864312,
     "end_time": "2025-06-20T06:14:10.871056",
     "exception": false,
     "start_time": "2025-06-20T06:14:05.006744",
     "status": "completed"
    },
    "tags": []
   },
   "outputs": [
    {
     "name": "stdout",
     "output_type": "stream",
     "text": [
      "test-loss:  0.53760210165511\n"
     ]
    }
   ],
   "source": [
    "model.eval()\n",
    "loss_batch_test = []\n",
    "\n",
    "# outputs_temp=torch.zeros((1,outputs.size()[1])).to(device)\n",
    "outputs_temp=torch.zeros((1)).to(device)\n",
    "labels_temp = torch.zeros((1,))\n",
    "\n",
    "for batch in dataloader_test:\n",
    "  with torch.no_grad():\n",
    "    inputs, labels, _ = batch\n",
    "    inputs = inputs.to(device)\n",
    "    labels = labels.to(device)\n",
    "    # attention = attention.type(torch.IntTensor).to(device)\n",
    "    outputs = model(inputs)\n",
    "    #predicted = torch.argmax(outputs.data)\n",
    "    predicted = (outputs > 0.5).long()\n",
    "    correct_train.extend(predicted.eq(labels.to(device).data).float())\n",
    "\n",
    "  outputs_temp = torch.cat((outputs_temp,outputs),dim=0)\n",
    "  labels_temp = torch.cat((labels_temp,labels.to('cpu')),dim=0)\n",
    "\n",
    "  # loss = criterion(outputs.to(device), labels.type(torch.LongTensor).to(device))\n",
    "  labels = labels.to(device).float()  \n",
    "  outputs = model(inputs)\n",
    "  loss = criterion(outputs, labels)\n",
    "  loss_batch_test.append(loss.item())\n",
    "\n",
    "print('test-loss: ', np.mean(loss_batch_test))"
   ]
  },
  {
   "cell_type": "code",
   "execution_count": 56,
   "id": "dd5380e6",
   "metadata": {
    "execution": {
     "iopub.execute_input": "2025-06-20T06:14:10.961847Z",
     "iopub.status.busy": "2025-06-20T06:14:10.961576Z",
     "iopub.status.idle": "2025-06-20T06:14:10.968016Z",
     "shell.execute_reply": "2025-06-20T06:14:10.967002Z"
    },
    "papermill": {
     "duration": 0.069254,
     "end_time": "2025-06-20T06:14:10.969890",
     "exception": false,
     "start_time": "2025-06-20T06:14:10.900636",
     "status": "completed"
    },
    "tags": []
   },
   "outputs": [
    {
     "name": "stdout",
     "output_type": "stream",
     "text": [
      "outputs_temp shape: torch.Size([365])\n",
      "unique predictions: [129]\n",
      "unique labels: [0. 1.]\n"
     ]
    }
   ],
   "source": [
    "print(\"outputs_temp shape:\", outputs_temp.shape)\n",
    "print(\"unique predictions:\", np.unique(np.argmax(outputs_temp.cpu().numpy(), axis=-1)))\n",
    "print(\"unique labels:\", np.unique(labels_temp.cpu().numpy()))"
   ]
  },
  {
   "cell_type": "code",
   "execution_count": 57,
   "id": "a6301f90",
   "metadata": {
    "execution": {
     "iopub.execute_input": "2025-06-20T06:14:11.077291Z",
     "iopub.status.busy": "2025-06-20T06:14:11.076956Z",
     "iopub.status.idle": "2025-06-20T06:14:11.085604Z",
     "shell.execute_reply": "2025-06-20T06:14:11.084930Z"
    },
    "id": "XU68XuyKLXjo",
    "papermill": {
     "duration": 0.067494,
     "end_time": "2025-06-20T06:14:11.086660",
     "exception": false,
     "start_time": "2025-06-20T06:14:11.019166",
     "status": "completed"
    },
    "tags": []
   },
   "outputs": [
    {
     "name": "stdout",
     "output_type": "stream",
     "text": [
      "Class-wise Metrics:\n",
      "Class 0: Precision=0.8034, Recall=0.7814, F1=0.7922\n",
      "Class 1: Precision=0.7849, Recall=0.8066, F1=0.7956\n",
      "\n",
      "Accuracy:\n",
      "Accuracy=0.7940\n"
     ]
    }
   ],
   "source": [
    "# compute_metrics(outputs_temp[1:].to('cpu'),labels_temp[1:].to('cpu'))\n",
    "compute_metrics(outputs_temp[1:].to('cpu'),labels_temp[1:].to('cpu'))"
   ]
  },
  {
   "cell_type": "code",
   "execution_count": 58,
   "id": "da3a4656",
   "metadata": {
    "execution": {
     "iopub.execute_input": "2025-06-20T06:14:11.113755Z",
     "iopub.status.busy": "2025-06-20T06:14:11.113539Z",
     "iopub.status.idle": "2025-06-20T06:14:11.225424Z",
     "shell.execute_reply": "2025-06-20T06:14:11.224690Z"
    },
    "id": "-5cG7fZxp4BZ",
    "papermill": {
     "duration": 0.126755,
     "end_time": "2025-06-20T06:14:11.226687",
     "exception": false,
     "start_time": "2025-06-20T06:14:11.099932",
     "status": "completed"
    },
    "tags": []
   },
   "outputs": [
    {
     "name": "stdout",
     "output_type": "stream",
     "text": [
      "Length of predictions: 364\n",
      "Length of labels: 364\n"
     ]
    },
    {
     "data": {
      "image/png": "[encoded data removed]",
      "text/plain": [
       "<Figure size 1000x1000 with 1 Axes>"
      ]
     },
     "metadata": {},
     "output_type": "display_data"
    }
   ],
   "source": [
    "display_confusion_matrix(outputs_temp[1:].to('cpu'),labels_temp[1:].to('cpu'))"
   ]
  },
  {
   "cell_type": "code",
   "execution_count": null,
   "id": "ac7ccb73",
   "metadata": {
    "execution": {
     "iopub.status.busy": "2025-06-02T11:46:16.631778Z",
     "iopub.status.idle": "2025-06-02T11:46:16.632066Z",
     "shell.execute_reply": "2025-06-02T11:46:16.631925Z",
     "shell.execute_reply.started": "2025-06-02T11:46:16.631909Z"
    },
    "papermill": {
     "duration": 0.014263,
     "end_time": "2025-06-20T06:14:11.254864",
     "exception": false,
     "start_time": "2025-06-20T06:14:11.240601",
     "status": "completed"
    },
    "tags": []
   },
   "outputs": [],
   "source": []
  }
 ],
 "metadata": {
  "accelerator": "GPU",
  "colab": {
   "gpuType": "T4",
   "provenance": []
  },
  "kaggle": {
   "accelerator": "gpu",
   "dataSources": [
    {
     "datasetId": 7273143,
     "sourceId": 11597704,
     "sourceType": "datasetVersion"
    },
    {
     "datasetId": 7273465,
     "sourceId": 11956150,
     "sourceType": "datasetVersion"
    },
    {
     "datasetId": 7267352,
     "sourceId": 12036167,
     "sourceType": "datasetVersion"
    },
    {
     "modelId": 323072,
     "modelInstanceId": 302573,
     "sourceId": 412692,
     "sourceType": "modelInstanceVersion"
    },
    {
     "modelId": 323072,
     "modelInstanceId": 340211,
     "sourceId": 417009,
     "sourceType": "modelInstanceVersion"
    },
    {
     "isSourceIdPinned": true,
     "modelId": 323072,
     "modelInstanceId": 345058,
     "sourceId": 423410,
     "sourceType": "modelInstanceVersion"
    },
    {
     "isSourceIdPinned": true,
     "modelId": 323072,
     "modelInstanceId": 350979,
     "sourceId": 430597,
     "sourceType": "modelInstanceVersion"
    },
    {
     "isSourceIdPinned": true,
     "modelId": 323072,
     "modelInstanceId": 350989,
     "sourceId": 430610,
     "sourceType": "modelInstanceVersion"
    }
   ],
   "dockerImageVersionId": 31011,
   "isGpuEnabled": true,
   "isInternetEnabled": true,
   "language": "python",
   "sourceType": "notebook"
  },
  "kernelspec": {
   "display_name": "Python 3",
   "language": "python",
   "name": "python3"
  },
  "language_info": {
   "codemirror_mode": {
    "name": "ipython",
    "version": 3
   },
   "file_extension": ".py",
   "mimetype": "text/x-python",
   "name": "python",
   "nbconvert_exporter": "python",
   "pygments_lexer": "ipython3",
   "version": "3.11.11"
  },
  "papermill": {
   "default_parameters": {},
   "duration": 720.494208,
   "end_time": "2025-06-20T06:14:15.083310",
   "environment_variables": {},
   "exception": null,
   "input_path": "__notebook__.ipynb",
   "output_path": "__notebook__.ipynb",
   "parameters": {},
   "start_time": "2025-06-20T06:02:14.589102",
   "version": "2.6.0"
  }
 },
 "nbformat": 4,
 "nbformat_minor": 5
}
