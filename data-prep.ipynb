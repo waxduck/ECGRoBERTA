{
 "cells": [
  {
   "cell_type": "code",
   "execution_count": 1,
   "id": "681625d6",
   "metadata": {
    "execution": {
     "iopub.execute_input": "2025-06-09T17:28:59.241929Z",
     "iopub.status.busy": "2025-06-09T17:28:59.241416Z",
     "iopub.status.idle": "2025-06-09T17:29:03.660426Z",
     "shell.execute_reply": "2025-06-09T17:29:03.659535Z"
    },
    "papermill": {
     "duration": 4.426464,
     "end_time": "2025-06-09T17:29:03.661811",
     "exception": false,
     "start_time": "2025-06-09T17:28:59.235347",
     "status": "completed"
    },
    "tags": []
   },
   "outputs": [
    {
     "name": "stdout",
     "output_type": "stream",
     "text": [
      "Collecting neurokit2\r\n",
      "  Downloading neurokit2-0.2.11-py2.py3-none-any.whl.metadata (37 kB)\r\n",
      "Requirement already satisfied: requests in /usr/local/lib/python3.11/dist-packages (from neurokit2) (2.32.3)\r\n",
      "Requirement already satisfied: numpy in /usr/local/lib/python3.11/dist-packages (from neurokit2) (1.26.4)\r\n",
      "Requirement already satisfied: pandas in /usr/local/lib/python3.11/dist-packages (from neurokit2) (2.2.3)\r\n",
      "Requirement already satisfied: scipy in /usr/local/lib/python3.11/dist-packages (from neurokit2) (1.15.2)\r\n",
      "Requirement already satisfied: scikit-learn>=1.0.0 in /usr/local/lib/python3.11/dist-packages (from neurokit2) (1.2.2)\r\n",
      "Requirement already satisfied: matplotlib>=3.5.0 in /usr/local/lib/python3.11/dist-packages (from neurokit2) (3.7.5)\r\n",
      "Requirement already satisfied: contourpy>=1.0.1 in /usr/local/lib/python3.11/dist-packages (from matplotlib>=3.5.0->neurokit2) (1.3.1)\r\n",
      "Requirement already satisfied: cycler>=0.10 in /usr/local/lib/python3.11/dist-packages (from matplotlib>=3.5.0->neurokit2) (0.12.1)\r\n",
      "Requirement already satisfied: fonttools>=4.22.0 in /usr/local/lib/python3.11/dist-packages (from matplotlib>=3.5.0->neurokit2) (4.56.0)\r\n",
      "Requirement already satisfied: kiwisolver>=1.0.1 in /usr/local/lib/python3.11/dist-packages (from matplotlib>=3.5.0->neurokit2) (1.4.8)\r\n",
      "Requirement already satisfied: packaging>=20.0 in /usr/local/lib/python3.11/dist-packages (from matplotlib>=3.5.0->neurokit2) (24.2)\r\n",
      "Requirement already satisfied: pillow>=6.2.0 in /usr/local/lib/python3.11/dist-packages (from matplotlib>=3.5.0->neurokit2) (11.1.0)\r\n",
      "Requirement already satisfied: pyparsing>=2.3.1 in /usr/local/lib/python3.11/dist-packages (from matplotlib>=3.5.0->neurokit2) (3.2.1)\r\n",
      "Requirement already satisfied: python-dateutil>=2.7 in /usr/local/lib/python3.11/dist-packages (from matplotlib>=3.5.0->neurokit2) (2.9.0.post0)\r\n",
      "Requirement already satisfied: mkl_fft in /usr/local/lib/python3.11/dist-packages (from numpy->neurokit2) (1.3.8)\r\n",
      "Requirement already satisfied: mkl_random in /usr/local/lib/python3.11/dist-packages (from numpy->neurokit2) (1.2.4)\r\n",
      "Requirement already satisfied: mkl_umath in /usr/local/lib/python3.11/dist-packages (from numpy->neurokit2) (0.1.1)\r\n",
      "Requirement already satisfied: mkl in /usr/local/lib/python3.11/dist-packages (from numpy->neurokit2) (2025.1.0)\r\n",
      "Requirement already satisfied: tbb4py in /usr/local/lib/python3.11/dist-packages (from numpy->neurokit2) (2022.1.0)\r\n",
      "Requirement already satisfied: mkl-service in /usr/local/lib/python3.11/dist-packages (from numpy->neurokit2) (2.4.1)\r\n",
      "Requirement already satisfied: joblib>=1.1.1 in /usr/local/lib/python3.11/dist-packages (from scikit-learn>=1.0.0->neurokit2) (1.4.2)\r\n",
      "Requirement already satisfied: threadpoolctl>=2.0.0 in /usr/local/lib/python3.11/dist-packages (from scikit-learn>=1.0.0->neurokit2) (3.6.0)\r\n",
      "Requirement already satisfied: pytz>=2020.1 in /usr/local/lib/python3.11/dist-packages (from pandas->neurokit2) (2025.2)\r\n",
      "Requirement already satisfied: tzdata>=2022.7 in /usr/local/lib/python3.11/dist-packages (from pandas->neurokit2) (2025.2)\r\n",
      "Requirement already satisfied: charset-normalizer<4,>=2 in /usr/local/lib/python3.11/dist-packages (from requests->neurokit2) (3.4.1)\r\n",
      "Requirement already satisfied: idna<4,>=2.5 in /usr/local/lib/python3.11/dist-packages (from requests->neurokit2) (3.10)\r\n",
      "Requirement already satisfied: urllib3<3,>=1.21.1 in /usr/local/lib/python3.11/dist-packages (from requests->neurokit2) (2.3.0)\r\n",
      "Requirement already satisfied: certifi>=2017.4.17 in /usr/local/lib/python3.11/dist-packages (from requests->neurokit2) (2025.1.31)\r\n",
      "Requirement already satisfied: six>=1.5 in /usr/local/lib/python3.11/dist-packages (from python-dateutil>=2.7->matplotlib>=3.5.0->neurokit2) (1.17.0)\r\n",
      "Requirement already satisfied: intel-openmp<2026,>=2024 in /usr/local/lib/python3.11/dist-packages (from mkl->numpy->neurokit2) (2024.2.0)\r\n",
      "Requirement already satisfied: tbb==2022.* in /usr/local/lib/python3.11/dist-packages (from mkl->numpy->neurokit2) (2022.1.0)\r\n",
      "Requirement already satisfied: tcmlib==1.* in /usr/local/lib/python3.11/dist-packages (from tbb==2022.*->mkl->numpy->neurokit2) (1.2.0)\r\n",
      "Requirement already satisfied: intel-cmplr-lib-rt in /usr/local/lib/python3.11/dist-packages (from mkl_umath->numpy->neurokit2) (2024.2.0)\r\n",
      "Requirement already satisfied: intel-cmplr-lib-ur==2024.2.0 in /usr/local/lib/python3.11/dist-packages (from intel-openmp<2026,>=2024->mkl->numpy->neurokit2) (2024.2.0)\r\n",
      "Downloading neurokit2-0.2.11-py2.py3-none-any.whl (696 kB)\r\n",
      "\u001b[2K   \u001b[90m━━━━━━━━━━━━━━━━━━━━━━━━━━━━━━━━━━━━━━━━\u001b[0m \u001b[32m696.5/696.5 kB\u001b[0m \u001b[31m19.4 MB/s\u001b[0m eta \u001b[36m0:00:00\u001b[0m\r\n",
      "\u001b[?25hInstalling collected packages: neurokit2\r\n",
      "Successfully installed neurokit2-0.2.11\r\n",
      "Note: you may need to restart the kernel to use updated packages.\n"
     ]
    }
   ],
   "source": [
    "pip install neurokit2"
   ]
  },
  {
   "cell_type": "code",
   "execution_count": 2,
   "id": "2b5ac225",
   "metadata": {
    "execution": {
     "iopub.execute_input": "2025-06-09T17:29:03.672491Z",
     "iopub.status.busy": "2025-06-09T17:29:03.672040Z",
     "iopub.status.idle": "2025-06-09T17:29:06.963693Z",
     "shell.execute_reply": "2025-06-09T17:29:06.962740Z"
    },
    "papermill": {
     "duration": 3.298134,
     "end_time": "2025-06-09T17:29:06.964968",
     "exception": false,
     "start_time": "2025-06-09T17:29:03.666834",
     "status": "completed"
    },
    "tags": []
   },
   "outputs": [
    {
     "name": "stdout",
     "output_type": "stream",
     "text": [
      "Collecting wfdb\r\n",
      "  Downloading wfdb-4.3.0-py3-none-any.whl.metadata (3.8 kB)\r\n",
      "Requirement already satisfied: aiohttp>=3.10.11 in /usr/local/lib/python3.11/dist-packages (from wfdb) (3.11.16)\r\n",
      "Requirement already satisfied: fsspec>=2023.10.0 in /usr/local/lib/python3.11/dist-packages (from wfdb) (2025.3.2)\r\n",
      "Requirement already satisfied: matplotlib>=3.2.2 in /usr/local/lib/python3.11/dist-packages (from wfdb) (3.7.5)\r\n",
      "Requirement already satisfied: numpy>=1.26.4 in /usr/local/lib/python3.11/dist-packages (from wfdb) (1.26.4)\r\n",
      "Requirement already satisfied: pandas>=2.2.3 in /usr/local/lib/python3.11/dist-packages (from wfdb) (2.2.3)\r\n",
      "Requirement already satisfied: requests>=2.8.1 in /usr/local/lib/python3.11/dist-packages (from wfdb) (2.32.3)\r\n",
      "Requirement already satisfied: scipy>=1.13.0 in /usr/local/lib/python3.11/dist-packages (from wfdb) (1.15.2)\r\n",
      "Requirement already satisfied: soundfile>=0.10.0 in /usr/local/lib/python3.11/dist-packages (from wfdb) (0.13.1)\r\n",
      "Requirement already satisfied: aiohappyeyeballs>=2.3.0 in /usr/local/lib/python3.11/dist-packages (from aiohttp>=3.10.11->wfdb) (2.6.1)\r\n",
      "Requirement already satisfied: aiosignal>=1.1.2 in /usr/local/lib/python3.11/dist-packages (from aiohttp>=3.10.11->wfdb) (1.3.2)\r\n",
      "Requirement already satisfied: attrs>=17.3.0 in /usr/local/lib/python3.11/dist-packages (from aiohttp>=3.10.11->wfdb) (25.3.0)\r\n",
      "Requirement already satisfied: frozenlist>=1.1.1 in /usr/local/lib/python3.11/dist-packages (from aiohttp>=3.10.11->wfdb) (1.5.0)\r\n",
      "Requirement already satisfied: multidict<7.0,>=4.5 in /usr/local/lib/python3.11/dist-packages (from aiohttp>=3.10.11->wfdb) (6.2.0)\r\n",
      "Requirement already satisfied: propcache>=0.2.0 in /usr/local/lib/python3.11/dist-packages (from aiohttp>=3.10.11->wfdb) (0.3.1)\r\n",
      "Requirement already satisfied: yarl<2.0,>=1.17.0 in /usr/local/lib/python3.11/dist-packages (from aiohttp>=3.10.11->wfdb) (1.19.0)\r\n",
      "Requirement already satisfied: contourpy>=1.0.1 in /usr/local/lib/python3.11/dist-packages (from matplotlib>=3.2.2->wfdb) (1.3.1)\r\n",
      "Requirement already satisfied: cycler>=0.10 in /usr/local/lib/python3.11/dist-packages (from matplotlib>=3.2.2->wfdb) (0.12.1)\r\n",
      "Requirement already satisfied: fonttools>=4.22.0 in /usr/local/lib/python3.11/dist-packages (from matplotlib>=3.2.2->wfdb) (4.56.0)\r\n",
      "Requirement already satisfied: kiwisolver>=1.0.1 in /usr/local/lib/python3.11/dist-packages (from matplotlib>=3.2.2->wfdb) (1.4.8)\r\n",
      "Requirement already satisfied: packaging>=20.0 in /usr/local/lib/python3.11/dist-packages (from matplotlib>=3.2.2->wfdb) (24.2)\r\n",
      "Requirement already satisfied: pillow>=6.2.0 in /usr/local/lib/python3.11/dist-packages (from matplotlib>=3.2.2->wfdb) (11.1.0)\r\n",
      "Requirement already satisfied: pyparsing>=2.3.1 in /usr/local/lib/python3.11/dist-packages (from matplotlib>=3.2.2->wfdb) (3.2.1)\r\n",
      "Requirement already satisfied: python-dateutil>=2.7 in /usr/local/lib/python3.11/dist-packages (from matplotlib>=3.2.2->wfdb) (2.9.0.post0)\r\n",
      "Requirement already satisfied: mkl_fft in /usr/local/lib/python3.11/dist-packages (from numpy>=1.26.4->wfdb) (1.3.8)\r\n",
      "Requirement already satisfied: mkl_random in /usr/local/lib/python3.11/dist-packages (from numpy>=1.26.4->wfdb) (1.2.4)\r\n",
      "Requirement already satisfied: mkl_umath in /usr/local/lib/python3.11/dist-packages (from numpy>=1.26.4->wfdb) (0.1.1)\r\n",
      "Requirement already satisfied: mkl in /usr/local/lib/python3.11/dist-packages (from numpy>=1.26.4->wfdb) (2025.1.0)\r\n",
      "Requirement already satisfied: tbb4py in /usr/local/lib/python3.11/dist-packages (from numpy>=1.26.4->wfdb) (2022.1.0)\r\n",
      "Requirement already satisfied: mkl-service in /usr/local/lib/python3.11/dist-packages (from numpy>=1.26.4->wfdb) (2.4.1)\r\n",
      "Requirement already satisfied: pytz>=2020.1 in /usr/local/lib/python3.11/dist-packages (from pandas>=2.2.3->wfdb) (2025.2)\r\n",
      "Requirement already satisfied: tzdata>=2022.7 in /usr/local/lib/python3.11/dist-packages (from pandas>=2.2.3->wfdb) (2025.2)\r\n",
      "Requirement already satisfied: charset-normalizer<4,>=2 in /usr/local/lib/python3.11/dist-packages (from requests>=2.8.1->wfdb) (3.4.1)\r\n",
      "Requirement already satisfied: idna<4,>=2.5 in /usr/local/lib/python3.11/dist-packages (from requests>=2.8.1->wfdb) (3.10)\r\n",
      "Requirement already satisfied: urllib3<3,>=1.21.1 in /usr/local/lib/python3.11/dist-packages (from requests>=2.8.1->wfdb) (2.3.0)\r\n",
      "Requirement already satisfied: certifi>=2017.4.17 in /usr/local/lib/python3.11/dist-packages (from requests>=2.8.1->wfdb) (2025.1.31)\r\n",
      "Requirement already satisfied: cffi>=1.0 in /usr/local/lib/python3.11/dist-packages (from soundfile>=0.10.0->wfdb) (1.17.1)\r\n",
      "Requirement already satisfied: pycparser in /usr/local/lib/python3.11/dist-packages (from cffi>=1.0->soundfile>=0.10.0->wfdb) (2.22)\r\n",
      "Requirement already satisfied: six>=1.5 in /usr/local/lib/python3.11/dist-packages (from python-dateutil>=2.7->matplotlib>=3.2.2->wfdb) (1.17.0)\r\n",
      "Requirement already satisfied: intel-openmp<2026,>=2024 in /usr/local/lib/python3.11/dist-packages (from mkl->numpy>=1.26.4->wfdb) (2024.2.0)\r\n",
      "Requirement already satisfied: tbb==2022.* in /usr/local/lib/python3.11/dist-packages (from mkl->numpy>=1.26.4->wfdb) (2022.1.0)\r\n",
      "Requirement already satisfied: tcmlib==1.* in /usr/local/lib/python3.11/dist-packages (from tbb==2022.*->mkl->numpy>=1.26.4->wfdb) (1.2.0)\r\n",
      "Requirement already satisfied: intel-cmplr-lib-rt in /usr/local/lib/python3.11/dist-packages (from mkl_umath->numpy>=1.26.4->wfdb) (2024.2.0)\r\n",
      "Requirement already satisfied: intel-cmplr-lib-ur==2024.2.0 in /usr/local/lib/python3.11/dist-packages (from intel-openmp<2026,>=2024->mkl->numpy>=1.26.4->wfdb) (2024.2.0)\r\n",
      "Downloading wfdb-4.3.0-py3-none-any.whl (163 kB)\r\n",
      "\u001b[2K   \u001b[90m━━━━━━━━━━━━━━━━━━━━━━━━━━━━━━━━━━━━━━━━\u001b[0m \u001b[32m163.8/163.8 kB\u001b[0m \u001b[31m6.0 MB/s\u001b[0m eta \u001b[36m0:00:00\u001b[0m\r\n",
      "\u001b[?25hInstalling collected packages: wfdb\r\n",
      "Successfully installed wfdb-4.3.0\r\n",
      "Note: you may need to restart the kernel to use updated packages.\n"
     ]
    }
   ],
   "source": [
    "pip install wfdb"
   ]
  },
  {
   "cell_type": "code",
   "execution_count": 3,
   "id": "5b85b6ec",
   "metadata": {
    "execution": {
     "iopub.execute_input": "2025-06-09T17:29:06.976338Z",
     "iopub.status.busy": "2025-06-09T17:29:06.975919Z",
     "iopub.status.idle": "2025-06-09T17:29:30.245984Z",
     "shell.execute_reply": "2025-06-09T17:29:30.244978Z"
    },
    "papermill": {
     "duration": 23.276935,
     "end_time": "2025-06-09T17:29:30.247231",
     "exception": false,
     "start_time": "2025-06-09T17:29:06.970296",
     "status": "completed"
    },
    "tags": []
   },
   "outputs": [
    {
     "name": "stdout",
     "output_type": "stream",
     "text": [
      "Collecting pyedflib\r\n",
      "  Downloading pyedflib-0.1.40.tar.gz (2.3 MB)\r\n",
      "\u001b[2K     \u001b[90m━━━━━━━━━━━━━━━━━━━━━━━━━━━━━━━━━━━━━━━━\u001b[0m \u001b[32m2.3/2.3 MB\u001b[0m \u001b[31m31.4 MB/s\u001b[0m eta \u001b[36m0:00:00\u001b[0m\r\n",
      "\u001b[?25h  Installing build dependencies ... \u001b[?25l\u001b[?25hdone\r\n",
      "  Getting requirements to build wheel ... \u001b[?25l\u001b[?25hdone\r\n",
      "  Preparing metadata (pyproject.toml) ... \u001b[?25l\u001b[?25hdone\r\n",
      "Requirement already satisfied: numpy>=1.9.1 in /usr/local/lib/python3.11/dist-packages (from pyedflib) (1.26.4)\r\n",
      "Requirement already satisfied: mkl_fft in /usr/local/lib/python3.11/dist-packages (from numpy>=1.9.1->pyedflib) (1.3.8)\r\n",
      "Requirement already satisfied: mkl_random in /usr/local/lib/python3.11/dist-packages (from numpy>=1.9.1->pyedflib) (1.2.4)\r\n",
      "Requirement already satisfied: mkl_umath in /usr/local/lib/python3.11/dist-packages (from numpy>=1.9.1->pyedflib) (0.1.1)\r\n",
      "Requirement already satisfied: mkl in /usr/local/lib/python3.11/dist-packages (from numpy>=1.9.1->pyedflib) (2025.1.0)\r\n",
      "Requirement already satisfied: tbb4py in /usr/local/lib/python3.11/dist-packages (from numpy>=1.9.1->pyedflib) (2022.1.0)\r\n",
      "Requirement already satisfied: mkl-service in /usr/local/lib/python3.11/dist-packages (from numpy>=1.9.1->pyedflib) (2.4.1)\r\n",
      "Requirement already satisfied: intel-openmp<2026,>=2024 in /usr/local/lib/python3.11/dist-packages (from mkl->numpy>=1.9.1->pyedflib) (2024.2.0)\r\n",
      "Requirement already satisfied: tbb==2022.* in /usr/local/lib/python3.11/dist-packages (from mkl->numpy>=1.9.1->pyedflib) (2022.1.0)\r\n",
      "Requirement already satisfied: tcmlib==1.* in /usr/local/lib/python3.11/dist-packages (from tbb==2022.*->mkl->numpy>=1.9.1->pyedflib) (1.2.0)\r\n",
      "Requirement already satisfied: intel-cmplr-lib-rt in /usr/local/lib/python3.11/dist-packages (from mkl_umath->numpy>=1.9.1->pyedflib) (2024.2.0)\r\n",
      "Requirement already satisfied: intel-cmplr-lib-ur==2024.2.0 in /usr/local/lib/python3.11/dist-packages (from intel-openmp<2026,>=2024->mkl->numpy>=1.9.1->pyedflib) (2024.2.0)\r\n",
      "Building wheels for collected packages: pyedflib\r\n",
      "  Building wheel for pyedflib (pyproject.toml) ... \u001b[?25l\u001b[?25hdone\r\n",
      "  Created wheel for pyedflib: filename=pyedflib-0.1.40-cp311-cp311-linux_x86_64.whl size=2746706 sha256=626d904b3eba55f869b5fbed81641cd47034f1df1ad94025fc41d569bd2ff85d\r\n",
      "  Stored in directory: /root/.cache/pip/wheels/8d/df/d6/88ce619bde055ebffebae5380645802eca490817853b60b45b\r\n",
      "Successfully built pyedflib\r\n",
      "Installing collected packages: pyedflib\r\n",
      "Successfully installed pyedflib-0.1.40\r\n",
      "Note: you may need to restart the kernel to use updated packages.\n"
     ]
    }
   ],
   "source": [
    "pip install pyedflib"
   ]
  },
  {
   "cell_type": "code",
   "execution_count": 4,
   "id": "e49eca68",
   "metadata": {
    "execution": {
     "iopub.execute_input": "2025-06-09T17:29:30.259302Z",
     "iopub.status.busy": "2025-06-09T17:29:30.259058Z",
     "iopub.status.idle": "2025-06-09T17:29:34.880426Z",
     "shell.execute_reply": "2025-06-09T17:29:34.879620Z"
    },
    "papermill": {
     "duration": 4.629083,
     "end_time": "2025-06-09T17:29:34.882055",
     "exception": false,
     "start_time": "2025-06-09T17:29:30.252972",
     "status": "completed"
    },
    "tags": []
   },
   "outputs": [],
   "source": [
    "import pandas as pd\n",
    "import numpy as np\n",
    "import ast\n",
    "import matplotlib.pyplot as plt\n",
    "import neurokit2 as nk\n",
    "import json\n",
    "import os\n",
    "# import wfdb\n",
    "import pickle\n",
    "import random\n",
    "from scipy.signal import find_peaks\n",
    "import mne\n",
    "import pyedflib\n",
    "from tqdm import tqdm\n",
    "from scipy.signal import butter, filtfilt"
   ]
  },
  {
   "cell_type": "code",
   "execution_count": 5,
   "id": "4a1c9aed",
   "metadata": {
    "execution": {
     "iopub.execute_input": "2025-06-09T17:29:34.894411Z",
     "iopub.status.busy": "2025-06-09T17:29:34.893814Z",
     "iopub.status.idle": "2025-06-09T17:29:34.903409Z",
     "shell.execute_reply": "2025-06-09T17:29:34.902549Z"
    },
    "papermill": {
     "duration": 0.016737,
     "end_time": "2025-06-09T17:29:34.904554",
     "exception": false,
     "start_time": "2025-06-09T17:29:34.887817",
     "status": "completed"
    },
    "tags": []
   },
   "outputs": [],
   "source": [
    "def read_edf_record(file_path):\n",
    "    try:\n",
    "        f = pyedflib.EdfReader(file_path)\n",
    "        n_channels = f.signals_in_file\n",
    "        channel_labels = f.getSignalLabels()\n",
    "        signals = np.vstack([f.readSignal(i) for i in range(n_channels)])\n",
    "        sfreq = f.getSampleFrequency(0)\n",
    "        f._close()\n",
    "        return signals, channel_labels, sfreq\n",
    "    except Exception as e:\n",
    "        print(f\"Ошибка при чтении {file_path}: {e}\")\n",
    "        return None, None, None\n",
    "\n",
    "def extract_periods(signal, sfreq, num_periods=1, distance_sec=0.6):\n",
    "    peaks, _ = find_peaks(signal, distance=int(distance_sec * sfreq * 0.8))\n",
    "    if len(peaks) < num_periods + 1:\n",
    "        raise ValueError(\"Недостаточно пиков\")\n",
    "    periods = []\n",
    "    for i in range(num_periods):\n",
    "        start = peaks[i]\n",
    "        end = peaks[i+1]\n",
    "        half = int((end-start)/2)\n",
    "        periods.append(signal[end-half:end+half])\n",
    "    return periods\n",
    "\n",
    "def process_record(record_path, target_channels):\n",
    "    signals, channel_labels, sfreq = read_edf_record(record_path) \n",
    "    lowcut = 0.6  \n",
    "    highcut = 40\n",
    "    order = 1  \n",
    "    nyquist_freq = 0.5 * sfreq\n",
    "    low = lowcut / nyquist_freq\n",
    "    high = highcut / nyquist_freq\n",
    "    \n",
    "    if signals is None or channel_labels is None:\n",
    "        print(f\"❌ Пропуск: {record_path} — сигналы не загружены\")\n",
    "        return None\n",
    "    if not all(ch in channel_labels for ch in target_channels):\n",
    "        print(f\"❌ Пропуск: {record_path} — отсутствуют каналы: {[ch for ch in target_channels if ch not in channel_labels]}\")\n",
    "        return None\n",
    "    if signals is None or channel_labels is None:\n",
    "        return None\n",
    "    if not all(ch in channel_labels for ch in target_channels):\n",
    "        return None\n",
    "    ecg_pieces = []\n",
    "    for ch in target_channels:\n",
    "        idx = channel_labels.index(ch)\n",
    "        # print(f'channel = {ch}, index = {idx}')\n",
    "        ch_data = signals[idx]\n",
    "        # ch_data = (ch_data - np.mean(ch_data)) / np.std(ch_data)\n",
    "        b, a = butter(order, [low, high], btype='bandpass')\n",
    "        ch_dat = filtfilt(b, a, ch_data)\n",
    "        try:\n",
    "            periods = extract_periods(ch_dat, sfreq, num_periods=1)\n",
    "            ecg_pieces.append(periods[0])\n",
    "        except Exception as e:\n",
    "            print(f\"Ошибка: {e}\")\n",
    "            return None\n",
    "    return np.hstack(ecg_pieces).tolist()"
   ]
  },
  {
   "cell_type": "code",
   "execution_count": 6,
   "id": "11e696df",
   "metadata": {
    "execution": {
     "iopub.execute_input": "2025-06-09T17:29:34.917495Z",
     "iopub.status.busy": "2025-06-09T17:29:34.917283Z",
     "iopub.status.idle": "2025-06-09T17:34:54.667861Z",
     "shell.execute_reply": "2025-06-09T17:34:54.666910Z"
    },
    "papermill": {
     "duration": 319.759245,
     "end_time": "2025-06-09T17:34:54.669088",
     "exception": false,
     "start_time": "2025-06-09T17:29:34.909843",
     "status": "completed"
    },
    "tags": []
   },
   "outputs": [
    {
     "name": "stdout",
     "output_type": "stream",
     "text": [
      "Колво строк в lef_names.csv: 908\n",
      "Найдено .edf файлов: 10795\n",
      "Примеры: [('TG249', '/kaggle/input/low-ejection-fraction/1/1/TG249.edf'), ('TG919', '/kaggle/input/low-ejection-fraction/1/1/TG919.edf'), ('TG405', '/kaggle/input/low-ejection-fraction/1/1/TG405.edf'), ('TG318', '/kaggle/input/low-ejection-fraction/1/1/TG318.edf'), ('TG438', '/kaggle/input/low-ejection-fraction/1/1/TG438.edf')]\n",
      "Положительных файлов, найденных среди всех: 908\n",
      "🔄 Обработка ecg_tune.pkl...\n"
     ]
    },
    {
     "name": "stderr",
     "output_type": "stream",
     "text": [
      "100%|██████████| 1816/1816 [00:46<00:00, 38.77it/s]\n"
     ]
    },
    {
     "name": "stdout",
     "output_type": "stream",
     "text": [
      "🔄 Обработка ecg_data.pkl...\n"
     ]
    },
    {
     "name": "stderr",
     "output_type": "stream",
     "text": [
      "100%|██████████| 8979/8979 [03:53<00:00, 38.46it/s]\n"
     ]
    },
    {
     "name": "stdout",
     "output_type": "stream",
     "text": [
      "\n",
      "✅ ecg_tune.pkl: 1816 записей (положит: 908, отрицат: 908)\n",
      "Примеры положительных: ['TG8007', 'TG4733', 'TG6850', 'TG7892', 'TG224']\n",
      "Примеры отрицательных: ['TG8879', 'TG6584', 'TG6191', 'TG4982', 'TG10523']\n",
      "\n",
      "✅ ecg_data.pkl: 8979 записей\n",
      "Примеры оставшихся: ['TG6502', 'TG5006', 'TG3515', 'TG8727', 'TG8851']\n"
     ]
    }
   ],
   "source": [
    "mne.set_log_level('WARNING')\n",
    "\n",
    "base_folder = '/kaggle/input/low-ejection-fraction'\n",
    "edf_folders = [f'{i}/{i}' for i in range(1, 12)]\n",
    "target_channels = ['ECG I', 'ECG II', 'ECG V1', 'ECG V2', 'ECG V3', 'ECG V4', 'ECG V5', 'ECG V6']\n",
    "\n",
    "# Читаем lef_names.csv (без заголовка)\n",
    "lef_df = pd.read_csv(f'{base_folder}/lef_names.csv', header=None)\n",
    "lef_names = set(lef_df[0].apply(lambda x: os.path.splitext(os.path.basename(str(x).strip()))[0]))\n",
    "print(\"Колво строк в lef_names.csv:\", len(lef_names))\n",
    "\n",
    "# Собираем все .edf файлы\n",
    "record_paths = dict()\n",
    "for folder in edf_folders:\n",
    "    folder_path = os.path.join(base_folder, folder)\n",
    "    for root, _, files in os.walk(folder_path):\n",
    "        for file in files:\n",
    "            if file.endswith('.edf'):\n",
    "                name = os.path.splitext(file)[0]\n",
    "                record_paths[name] = os.path.join(root, file)\n",
    "\n",
    "print(f\"Найдено .edf файлов: {len(record_paths)}\")\n",
    "print(\"Примеры:\", list(record_paths.items())[:5])\n",
    "\n",
    "all_records = list(record_paths.keys())\n",
    "\n",
    "# Делим на положительные и оставшиеся\n",
    "pos_names = list(lef_names & set(all_records))\n",
    "print(f\"Положительных файлов, найденных среди всех: {len(pos_names)}\")\n",
    "neg_candidates = list(set(all_records) - lef_names)\n",
    "random.shuffle(neg_candidates)\n",
    "neg_names = neg_candidates[:len(pos_names)]\n",
    "\n",
    "used_names = set(pos_names + neg_names)\n",
    "remaining_names = list(set(all_records) - used_names)\n",
    "\n",
    "# Обработка и сбор\n",
    "tune_data = []\n",
    "tune_labels = []\n",
    "tune_files_pos = []\n",
    "tune_files_neg = []\n",
    "\n",
    "print(\"🔄 Обработка ecg_tune.pkl...\")\n",
    "for name, label in tqdm([(n, 1) for n in pos_names] + [(n, 0) for n in neg_names]):\n",
    "    sig = process_record(record_paths[name], target_channels)\n",
    "    if sig:\n",
    "        tune_data.append(sig)\n",
    "        tune_labels.append(label)\n",
    "        if label == 1:\n",
    "            tune_files_pos.append(name)\n",
    "        else:\n",
    "            tune_files_neg.append(name)\n",
    "\n",
    "df_tune = pd.DataFrame({'signal': tune_data, 'label': tune_labels})\n",
    "with open('ecg_tune.pkl', 'wb') as f:\n",
    "    pickle.dump(df_tune, f)\n",
    "\n",
    "# Обработка оставшихся\n",
    "print(\"🔄 Обработка ecg_data.pkl...\")\n",
    "data_data = []\n",
    "data_files = []\n",
    "for name in tqdm(remaining_names):\n",
    "    sig = process_record(record_paths[name], target_channels)\n",
    "    if sig:\n",
    "        data_data.append(sig)\n",
    "        data_files.append(name)\n",
    "\n",
    "df_data = pd.DataFrame({'signal': data_data})\n",
    "with open('ecg_data.pkl', 'wb') as f:\n",
    "    pickle.dump(df_data, f)\n",
    "\n",
    "# Вывод результатов\n",
    "print(f\"\\n✅ ecg_tune.pkl: {len(tune_data)} записей (положит: {len(tune_files_pos)}, отрицат: {len(tune_files_neg)})\")\n",
    "print(f\"Примеры положительных: {tune_files_pos[:5]}\")\n",
    "print(f\"Примеры отрицательных: {tune_files_neg[:5]}\")\n",
    "print(f\"\\n✅ ecg_data.pkl: {len(data_data)} записей\")\n",
    "print(f\"Примеры оставшихся: {data_files[:5]}\")\n"
   ]
  },
  {
   "cell_type": "code",
   "execution_count": 7,
   "id": "770276ee",
   "metadata": {
    "execution": {
     "iopub.execute_input": "2025-06-09T17:34:54.862599Z",
     "iopub.status.busy": "2025-06-09T17:34:54.862140Z",
     "iopub.status.idle": "2025-06-09T17:38:58.044977Z",
     "shell.execute_reply": "2025-06-09T17:38:58.044161Z"
    },
    "papermill": {
     "duration": 243.279486,
     "end_time": "2025-06-09T17:38:58.046160",
     "exception": false,
     "start_time": "2025-06-09T17:34:54.766674",
     "status": "completed"
    },
    "tags": []
   },
   "outputs": [
    {
     "name": "stdout",
     "output_type": "stream",
     "text": [
      "Найдено physio-файлов: 9999\n",
      "Примеры: [('00848_hr', '/kaggle/input/ptb-xl-dataset/ptb-xl-a-large-publicly-available-electrocardiography-dataset-1.0.1/records500/00000/00848_hr'), ('00980_hr', '/kaggle/input/ptb-xl-dataset/ptb-xl-a-large-publicly-available-electrocardiography-dataset-1.0.1/records500/00000/00980_hr'), ('00706_hr', '/kaggle/input/ptb-xl-dataset/ptb-xl-a-large-publicly-available-electrocardiography-dataset-1.0.1/records500/00000/00706_hr'), ('00540_hr', '/kaggle/input/ptb-xl-dataset/ptb-xl-a-large-publicly-available-electrocardiography-dataset-1.0.1/records500/00000/00540_hr'), ('00173_hr', '/kaggle/input/ptb-xl-dataset/ptb-xl-a-large-publicly-available-electrocardiography-dataset-1.0.1/records500/00000/00173_hr')]\n",
      "🔄 Обработка physio данных...\n"
     ]
    },
    {
     "name": "stderr",
     "output_type": "stream",
     "text": [
      "100%|██████████| 9999/9999 [03:12<00:00, 51.91it/s]\n"
     ]
    },
    {
     "name": "stdout",
     "output_type": "stream",
     "text": [
      "\n",
      "✅ df_physio: 9999 записей\n",
      "Примеры: ['00848_hr', '00980_hr', '00706_hr', '00540_hr', '00173_hr']\n",
      "\n",
      "✅ ecg_data_combined.pkl: 18978 записей\n"
     ]
    }
   ],
   "source": [
    "import wfdb\n",
    "\n",
    "base_folder = '/kaggle/input/ptb-xl-dataset/ptb-xl-a-large-publicly-available-electrocardiography-dataset-1.0.1/records500'\n",
    "physionet_folders = ['00000', '01000', '02000', '03000', '04000', '05000', '06000', '07000', '08000', '09000']\n",
    "target_channels_physio = ['I', 'II', 'V1', 'V2', 'V3', 'V4', 'V5', 'V6']\n",
    "\n",
    "def read_physionet_record(record_path):\n",
    "    try:\n",
    "        record = wfdb.rdrecord(record_path)\n",
    "        channel_labels = record.sig_name\n",
    "        signals = record.p_signal.T  # транспонируем, чтобы было [n_channels, n_samples]\n",
    "        sfreq = record.fs\n",
    "        return signals, channel_labels, sfreq\n",
    "    except Exception as e:\n",
    "        print(f\"Ошибка при чтении {record_path}: {e}\")\n",
    "        return None, None, None\n",
    "\n",
    "def process_physio_record(record_path, target_channels):\n",
    "    signals, channel_labels, sfreq = read_physionet_record(record_path)\n",
    "    lowcut = 0.6  \n",
    "    highcut = 40\n",
    "    order = 1  \n",
    "    nyquist_freq = 0.5 * sfreq\n",
    "    low = lowcut / nyquist_freq\n",
    "    high = highcut / nyquist_freq\n",
    "\n",
    "    if signals is None or channel_labels is None:\n",
    "        print(f\"❌ Пропуск: {record_path} — сигналы не загружены\")\n",
    "        return None\n",
    "    if not all(ch in channel_labels for ch in target_channels):\n",
    "        print(f\"❌ Пропуск: {record_path} — отсутствуют каналы: {[ch for ch in target_channels if ch not in channel_labels]}\")\n",
    "        return None\n",
    "    ecg_pieces = []\n",
    "    for ch in target_channels:\n",
    "        idx = channel_labels.index(ch)\n",
    "        ch_data = signals[idx]\n",
    "        b, a = butter(order, [low, high], btype='bandpass')\n",
    "        ch_dat = filtfilt(b, a, ch_data)\n",
    "        try:\n",
    "            periods = extract_periods(ch_dat, sfreq, num_periods=1)\n",
    "            ecg_pieces.append(periods[0])\n",
    "        except Exception as e:\n",
    "            print(f\"Ошибка: {e}\")\n",
    "            return None\n",
    "    return np.hstack(ecg_pieces).tolist()\n",
    "\n",
    "# Сбор путей к .dat/.hea\n",
    "physio_record_paths = dict()\n",
    "for folder in physionet_folders:\n",
    "    folder_path = os.path.join(base_folder, folder)\n",
    "    for root, _, files in os.walk(folder_path):\n",
    "        for file in files:\n",
    "            if file.endswith('.hea'):\n",
    "                name = os.path.splitext(file)[0]\n",
    "                physio_record_paths[name] = os.path.join(root, name)\n",
    "\n",
    "print(f\"Найдено physio-файлов: {len(physio_record_paths)}\")\n",
    "print(\"Примеры:\", list(physio_record_paths.items())[:5])\n",
    "\n",
    "# Обработка physio данных\n",
    "physio_data = []\n",
    "physio_files = []\n",
    "print(\"🔄 Обработка physio данных...\")\n",
    "for name, path in tqdm(physio_record_paths.items()):\n",
    "    sig = process_physio_record(path, target_channels_physio)\n",
    "    if sig:\n",
    "        physio_data.append(sig)\n",
    "        physio_files.append(name)\n",
    "\n",
    "df_physio = pd.DataFrame({'signal': physio_data})\n",
    "print(f\"\\n✅ df_physio: {len(df_physio)} записей\")\n",
    "print(f\"Примеры: {physio_files[:5]}\")\n",
    "\n",
    "# Объединение с df_data (из EDF)\n",
    "df_data_combined = pd.concat([df_data, df_physio], ignore_index=True)\n",
    "\n",
    "with open('ecg_data_combined.pkl', 'wb') as f:\n",
    "    pickle.dump(df_data_combined, f)\n",
    "\n",
    "print(f\"\\n✅ ecg_data_combined.pkl: {len(df_data_combined)} записей\")\n"
   ]
  },
  {
   "cell_type": "code",
   "execution_count": 8,
   "id": "89b7775b",
   "metadata": {
    "execution": {
     "iopub.execute_input": "2025-06-09T17:38:58.374484Z",
     "iopub.status.busy": "2025-06-09T17:38:58.373974Z",
     "iopub.status.idle": "2025-06-09T17:38:58.377381Z",
     "shell.execute_reply": "2025-06-09T17:38:58.376837Z"
    },
    "papermill": {
     "duration": 0.170796,
     "end_time": "2025-06-09T17:38:58.378420",
     "exception": false,
     "start_time": "2025-06-09T17:38:58.207624",
     "status": "completed"
    },
    "tags": []
   },
   "outputs": [],
   "source": [
    "# df_tune.to_pickle('ecg_tune.pkl')\n",
    "# df_data.to_pickle('ecg_data.pkl')"
   ]
  },
  {
   "cell_type": "code",
   "execution_count": 9,
   "id": "b4fef8e7",
   "metadata": {
    "execution": {
     "iopub.execute_input": "2025-06-09T17:38:58.707062Z",
     "iopub.status.busy": "2025-06-09T17:38:58.706465Z",
     "iopub.status.idle": "2025-06-09T17:38:58.726608Z",
     "shell.execute_reply": "2025-06-09T17:38:58.725955Z"
    },
    "papermill": {
     "duration": 0.188806,
     "end_time": "2025-06-09T17:38:58.727886",
     "exception": false,
     "start_time": "2025-06-09T17:38:58.539080",
     "status": "completed"
    },
    "tags": []
   },
   "outputs": [
    {
     "name": "stdout",
     "output_type": "stream",
     "text": [
      "(18978, 1)\n"
     ]
    },
    {
     "data": {
      "text/html": [
       "<div>\n",
       "<style scoped>\n",
       "    .dataframe tbody tr th:only-of-type {\n",
       "        vertical-align: middle;\n",
       "    }\n",
       "\n",
       "    .dataframe tbody tr th {\n",
       "        vertical-align: top;\n",
       "    }\n",
       "\n",
       "    .dataframe thead th {\n",
       "        text-align: right;\n",
       "    }\n",
       "</style>\n",
       "<table border=\"1\" class=\"dataframe\">\n",
       "  <thead>\n",
       "    <tr style=\"text-align: right;\">\n",
       "      <th></th>\n",
       "      <th>signal</th>\n",
       "    </tr>\n",
       "  </thead>\n",
       "  <tbody>\n",
       "    <tr>\n",
       "      <th>0</th>\n",
       "      <td>[-0.058704504644863355, -0.05736539394872103, ...</td>\n",
       "    </tr>\n",
       "    <tr>\n",
       "      <th>1</th>\n",
       "      <td>[-0.019705819927583863, -0.019619104832058386,...</td>\n",
       "    </tr>\n",
       "    <tr>\n",
       "      <th>2</th>\n",
       "      <td>[0.008350811259904469, 0.013407213308988884, 0...</td>\n",
       "    </tr>\n",
       "    <tr>\n",
       "      <th>3</th>\n",
       "      <td>[-0.0036969810607958096, -0.005725953351661902...</td>\n",
       "    </tr>\n",
       "    <tr>\n",
       "      <th>4</th>\n",
       "      <td>[0.16504100527617718, 0.17047389279891065, 0.1...</td>\n",
       "    </tr>\n",
       "  </tbody>\n",
       "</table>\n",
       "</div>"
      ],
      "text/plain": [
       "                                              signal\n",
       "0  [-0.058704504644863355, -0.05736539394872103, ...\n",
       "1  [-0.019705819927583863, -0.019619104832058386,...\n",
       "2  [0.008350811259904469, 0.013407213308988884, 0...\n",
       "3  [-0.0036969810607958096, -0.005725953351661902...\n",
       "4  [0.16504100527617718, 0.17047389279891065, 0.1..."
      ]
     },
     "execution_count": 9,
     "metadata": {},
     "output_type": "execute_result"
    }
   ],
   "source": [
    "# df = pd.read_csv('ecg_data.csv')\n",
    "df = df_data_combined\n",
    "print(df.shape)\n",
    "df.head(5)"
   ]
  },
  {
   "cell_type": "code",
   "execution_count": 10,
   "id": "812da602",
   "metadata": {
    "execution": {
     "iopub.execute_input": "2025-06-09T17:38:59.059407Z",
     "iopub.status.busy": "2025-06-09T17:38:59.059136Z",
     "iopub.status.idle": "2025-06-09T17:38:59.387772Z",
     "shell.execute_reply": "2025-06-09T17:38:59.387010Z"
    },
    "papermill": {
     "duration": 0.497301,
     "end_time": "2025-06-09T17:38:59.388993",
     "exception": false,
     "start_time": "2025-06-09T17:38:58.891692",
     "status": "completed"
    },
    "tags": []
   },
   "outputs": [
    {
     "name": "stderr",
     "output_type": "stream",
     "text": [
      "/tmp/ipykernel_19/2147779955.py:1: FutureWarning: Series.__getitem__ treating keys as positions is deprecated. In a future version, integer keys will always be treated as labels (consistent with DataFrame behavior). To access a value by position, use `ser.iloc[pos]`\n",
      "  n = np.linspace(0, 100, len(df.iloc[2000][0]))\n",
      "/tmp/ipykernel_19/2147779955.py:2: FutureWarning: Series.__getitem__ treating keys as positions is deprecated. In a future version, integer keys will always be treated as labels (consistent with DataFrame behavior). To access a value by position, use `ser.iloc[pos]`\n",
      "  plt.plot(n, df.iloc[2000][0])\n"
     ]
    },
    {
     "data": {
      "text/plain": [
       "[<matplotlib.lines.Line2D at 0x7a16a9c7b4d0>]"
      ]
     },
     "execution_count": 10,
     "metadata": {},
     "output_type": "execute_result"
    },
    {
     "data": {
      "image/png": "[encoded data removed]",
      "text/plain": [
       "<Figure size 640x480 with 1 Axes>"
      ]
     },
     "metadata": {},
     "output_type": "display_data"
    }
   ],
   "source": [
    "n = np.linspace(0, 100, len(df.iloc[2000][0]))\n",
    "plt.plot(n, df.iloc[2000][0])"
   ]
  },
  {
   "cell_type": "code",
   "execution_count": 11,
   "id": "791ad8d6",
   "metadata": {
    "execution": {
     "iopub.execute_input": "2025-06-09T17:38:59.760789Z",
     "iopub.status.busy": "2025-06-09T17:38:59.760256Z",
     "iopub.status.idle": "2025-06-09T17:38:59.765705Z",
     "shell.execute_reply": "2025-06-09T17:38:59.765049Z"
    },
    "papermill": {
     "duration": 0.167354,
     "end_time": "2025-06-09T17:38:59.766698",
     "exception": false,
     "start_time": "2025-06-09T17:38:59.599344",
     "status": "completed"
    },
    "tags": []
   },
   "outputs": [
    {
     "name": "stderr",
     "output_type": "stream",
     "text": [
      "/tmp/ipykernel_19/4145123518.py:1: FutureWarning: Series.__getitem__ treating keys as positions is deprecated. In a future version, integer keys will always be treated as labels (consistent with DataFrame behavior). To access a value by position, use `ser.iloc[pos]`\n",
      "  len(df.iloc[11000][0])\n"
     ]
    },
    {
     "data": {
      "text/plain": [
       "2582"
      ]
     },
     "execution_count": 11,
     "metadata": {},
     "output_type": "execute_result"
    }
   ],
   "source": [
    "len(df.iloc[11000][0])"
   ]
  },
  {
   "cell_type": "code",
   "execution_count": 12,
   "id": "a5f40b74",
   "metadata": {
    "execution": {
     "iopub.execute_input": "2025-06-09T17:39:00.090998Z",
     "iopub.status.busy": "2025-06-09T17:39:00.090284Z",
     "iopub.status.idle": "2025-06-09T17:39:00.094417Z",
     "shell.execute_reply": "2025-06-09T17:39:00.093699Z"
    },
    "papermill": {
     "duration": 0.167643,
     "end_time": "2025-06-09T17:39:00.095540",
     "exception": false,
     "start_time": "2025-06-09T17:38:59.927897",
     "status": "completed"
    },
    "tags": []
   },
   "outputs": [],
   "source": [
    "def resample_signal(row):\n",
    "    original_signal = row['signal']\n",
    "    resampled_signal = nk.signal_resample(original_signal, sampling_rate=500, desired_sampling_rate= 250, method=\"FFT\")\n",
    "    return pd.Series({'signal': resampled_signal})"
   ]
  },
  {
   "cell_type": "code",
   "execution_count": 13,
   "id": "72bcd874",
   "metadata": {
    "execution": {
     "iopub.execute_input": "2025-06-09T17:39:00.422878Z",
     "iopub.status.busy": "2025-06-09T17:39:00.422368Z",
     "iopub.status.idle": "2025-06-09T17:39:14.913215Z",
     "shell.execute_reply": "2025-06-09T17:39:14.912652Z"
    },
    "papermill": {
     "duration": 14.657791,
     "end_time": "2025-06-09T17:39:14.914702",
     "exception": false,
     "start_time": "2025-06-09T17:39:00.256911",
     "status": "completed"
    },
    "tags": []
   },
   "outputs": [],
   "source": [
    "total_db_new = df\n",
    "resampled_df = total_db_new.apply(resample_signal, axis=1)\n",
    "del total_db_new\n",
    "total_db_new = resampled_df"
   ]
  },
  {
   "cell_type": "code",
   "execution_count": 14,
   "id": "9895b3c4",
   "metadata": {
    "execution": {
     "iopub.execute_input": "2025-06-09T17:39:15.240665Z",
     "iopub.status.busy": "2025-06-09T17:39:15.240055Z",
     "iopub.status.idle": "2025-06-09T17:39:15.244628Z",
     "shell.execute_reply": "2025-06-09T17:39:15.243923Z"
    },
    "papermill": {
     "duration": 0.167646,
     "end_time": "2025-06-09T17:39:15.245794",
     "exception": false,
     "start_time": "2025-06-09T17:39:15.078148",
     "status": "completed"
    },
    "tags": []
   },
   "outputs": [
    {
     "data": {
      "text/plain": [
       "18978"
      ]
     },
     "execution_count": 14,
     "metadata": {},
     "output_type": "execute_result"
    }
   ],
   "source": [
    "len(total_db_new)"
   ]
  },
  {
   "cell_type": "code",
   "execution_count": 15,
   "id": "f7bd96c0",
   "metadata": {
    "execution": {
     "iopub.execute_input": "2025-06-09T17:39:15.569664Z",
     "iopub.status.busy": "2025-06-09T17:39:15.569406Z",
     "iopub.status.idle": "2025-06-09T17:39:15.578316Z",
     "shell.execute_reply": "2025-06-09T17:39:15.577568Z"
    },
    "papermill": {
     "duration": 0.172123,
     "end_time": "2025-06-09T17:39:15.579447",
     "exception": false,
     "start_time": "2025-06-09T17:39:15.407324",
     "status": "completed"
    },
    "tags": []
   },
   "outputs": [],
   "source": [
    "from sklearn.model_selection import train_test_split\n",
    "\n",
    "train_df, temp_df = train_test_split(total_db_new, test_size=0.2, random_state=42)\n",
    "val_df, test_df = train_test_split(temp_df, test_size=(2/3), random_state=42)\n",
    "\n",
    "train_df.reset_index(drop=True, inplace=True)\n",
    "val_df.reset_index(drop=True, inplace=True)\n",
    "test_df.reset_index(drop=True, inplace=True)"
   ]
  },
  {
   "cell_type": "code",
   "execution_count": 16,
   "id": "b729f7b5",
   "metadata": {
    "execution": {
     "iopub.execute_input": "2025-06-09T17:39:15.951900Z",
     "iopub.status.busy": "2025-06-09T17:39:15.951406Z",
     "iopub.status.idle": "2025-06-09T17:39:19.452083Z",
     "shell.execute_reply": "2025-06-09T17:39:19.451240Z"
    },
    "papermill": {
     "duration": 3.664006,
     "end_time": "2025-06-09T17:39:19.453325",
     "exception": false,
     "start_time": "2025-06-09T17:39:15.789319",
     "status": "completed"
    },
    "tags": []
   },
   "outputs": [
    {
     "name": "stdout",
     "output_type": "stream",
     "text": [
      "-8.87892355685438 7.9680390132612\n",
      "-6.179675942373771 4.646065113988147\n",
      "-5.1322247790239715 7.547243807123167\n"
     ]
    }
   ],
   "source": [
    "def find_max_min(current_df):\n",
    "  min_value = current_df['signal'].apply(lambda x: min(x)).min()\n",
    "  max_value = current_df['signal'].apply(lambda x: max(x)).max()\n",
    "  return min_value, max_value\n",
    "\n",
    "min_train_df, max_train_df = find_max_min(train_df)\n",
    "print(min_train_df, max_train_df)\n",
    "\n",
    "min_val_df, max_val_df = find_max_min(val_df)\n",
    "print(min_val_df, max_val_df)\n",
    "\n",
    "min_test_df, max_test_df = find_max_min(test_df)\n",
    "print(min_test_df, max_test_df)"
   ]
  },
  {
   "cell_type": "code",
   "execution_count": 17,
   "id": "82464bc1",
   "metadata": {
    "execution": {
     "iopub.execute_input": "2025-06-09T17:39:19.775617Z",
     "iopub.status.busy": "2025-06-09T17:39:19.775011Z",
     "iopub.status.idle": "2025-06-09T17:39:25.574393Z",
     "shell.execute_reply": "2025-06-09T17:39:25.573819Z"
    },
    "papermill": {
     "duration": 5.961684,
     "end_time": "2025-06-09T17:39:25.575772",
     "exception": false,
     "start_time": "2025-06-09T17:39:19.614088",
     "status": "completed"
    },
    "tags": []
   },
   "outputs": [],
   "source": [
    "train_df['signal'] = train_df['signal'].apply(lambda x: [(item - min_train_df) / (max_train_df - min_train_df) for item in x])\n",
    "\n",
    "val_df['signal'] = val_df['signal'].apply(lambda x: [(item - min_val_df) / (max_val_df - min_val_df) for item in x])\n",
    "\n",
    "test_df['signal'] = test_df['signal'].apply(lambda x: [(item - min_test_df) / (max_test_df - min_test_df) for item in x])"
   ]
  },
  {
   "cell_type": "markdown",
   "id": "bb38777b",
   "metadata": {
    "papermill": {
     "duration": 0.160295,
     "end_time": "2025-06-09T17:39:25.896599",
     "exception": false,
     "start_time": "2025-06-09T17:39:25.736304",
     "status": "completed"
    },
    "tags": []
   },
   "source": [
    "Quantizer"
   ]
  },
  {
   "cell_type": "code",
   "execution_count": 18,
   "id": "23906cdd",
   "metadata": {
    "execution": {
     "iopub.execute_input": "2025-06-09T17:39:26.216557Z",
     "iopub.status.busy": "2025-06-09T17:39:26.215788Z",
     "iopub.status.idle": "2025-06-09T17:39:26.229258Z",
     "shell.execute_reply": "2025-06-09T17:39:26.228718Z"
    },
    "papermill": {
     "duration": 0.174861,
     "end_time": "2025-06-09T17:39:26.230424",
     "exception": false,
     "start_time": "2025-06-09T17:39:26.055563",
     "status": "completed"
    },
    "tags": []
   },
   "outputs": [],
   "source": [
    "class DiffQuantizer:\n",
    "    def __init__(self, alphabet_size, average_over=1, filter=False, breakpoints=None, use_diffs=True):\n",
    "\n",
    "        self.alphabet_size = alphabet_size\n",
    "        self.average_over = average_over\n",
    "        self.use_filter = filter\n",
    "        self.breakpoints = breakpoints\n",
    "        self.use_diffs = use_diffs\n",
    "        # print('self.breakpoints:',self.breakpoints)\n",
    "\n",
    "    def preprocess(self, tmp):\n",
    "        if self.average_over != 1:\n",
    "            tmp = self._average_over_n(tmp, self.average_over)\n",
    "\n",
    "        if self.use_filter:\n",
    "            tmp = self._filter_signal(tmp)\n",
    "\n",
    "        if self.use_diffs:\n",
    "            tmp = self._diff_signal(tmp)\n",
    "\n",
    "        return tmp\n",
    "\n",
    "    def perform_quantization(self, tmp, breakpoints=None):\n",
    "        self.breakpoints = breakpoints\n",
    "        # print('perform_quantization, self.breakpoints:',self.breakpoints)\n",
    "        tmp = self.preprocess(tmp)\n",
    "        result = self._quantize_with_breakpoints(tmp)\n",
    "        return result\n",
    "\n",
    "    def learn_breakpoints(self, arr):\n",
    "        res = self.preprocess(arr)\n",
    "\n",
    "        sorted_array = np.sort(res)\n",
    "\n",
    "        length = len(sorted_array)\n",
    "\n",
    "        probs = [1 / self.alphabet_size for _ in range(self.alphabet_size)]\n",
    "        cum_sum_breakpoints = [int(sum(probs[0:i + 1]) * length - 1) for i in range(len(probs))]\n",
    "        cum_sum_breakpoint_values = sorted_array[cum_sum_breakpoints]\n",
    "\n",
    "        cum_sum_breakpoint_values[-1] = 1e+100\n",
    "\n",
    "        self.breakpoints = cum_sum_breakpoint_values\n",
    "        # print('learn_breakpoints,self.breakpoints',self.breakpoints)\n",
    "\n",
    "        return cum_sum_breakpoint_values\n",
    "\n",
    "    # vectorized use\n",
    "    @staticmethod\n",
    "    def _breakpoint_to_letter(float_num, breakpoints):\n",
    "        # print('float_num:',float_num,'breakpoints:',breakpoints)\n",
    "        # print(list((breakpoints.index(obj) for obj in breakpoints if float_num < obj)))\n",
    "        int_val = next((breakpoints.index(obj) for obj in breakpoints if float_num < obj))\n",
    "        # print(int_val,list((breakpoints.index(obj) for obj in breakpoints if float_num < obj)))\n",
    "        # A + int_val\n",
    "        return chr(65 + int_val)\n",
    "\n",
    "    def _quantize_with_breakpoints(self, tmp):\n",
    "        breakpoints = self.breakpoints\n",
    "        vect_breakpoint_to_letter = np.vectorize(self._breakpoint_to_letter, excluded=['breakpoints'])\n",
    "        # print(tmp,breakpoints,self._breakpoint_to_letter,vect_breakpoint_to_letter)\n",
    "        tmp = vect_breakpoint_to_letter(tmp, breakpoints=list(breakpoints))\n",
    "        # tmp = vect_breakpoint_to_letter(tmp, breakpoints=breakpoints)\n",
    "        return tmp\n",
    "\n",
    "    @staticmethod\n",
    "    def _read_csv_file(input_file):\n",
    "        tmp_file_content = pd.read_csv(input_file, sep=\"\\n\", header=None, dtype=np.float64)\n",
    "        return np.array(tmp_file_content)\n",
    "\n",
    "    ## @staticmethod\n",
    "    # def _filter_signal(tmp):\n",
    "    #     return butter_lowpass_filter(tmp)\n",
    "\n",
    "    @staticmethod\n",
    "    def _average_over_n(tmp, n):\n",
    "        return np.array([np.average(tmp[i:i + n]) for i in range(0, len(tmp), n)])\n",
    "\n",
    "    @staticmethod\n",
    "    def _diff_signal(tmp):\n",
    "        res = np.diff(tmp)\n",
    "        return np.insert(res, 0, 0.0)"
   ]
  },
  {
   "cell_type": "code",
   "execution_count": 19,
   "id": "1e8046ea",
   "metadata": {
    "execution": {
     "iopub.execute_input": "2025-06-09T17:39:26.554376Z",
     "iopub.status.busy": "2025-06-09T17:39:26.554108Z",
     "iopub.status.idle": "2025-06-09T17:39:26.560106Z",
     "shell.execute_reply": "2025-06-09T17:39:26.559644Z"
    },
    "papermill": {
     "duration": 0.168907,
     "end_time": "2025-06-09T17:39:26.561106",
     "exception": false,
     "start_time": "2025-06-09T17:39:26.392199",
     "status": "completed"
    },
    "tags": []
   },
   "outputs": [],
   "source": [
    "import math\n",
    "import csv\n",
    "\n",
    "class Preprocessing():\n",
    "\n",
    "  def __init__(self, input_file, discretizition_factor, max_window_size):\n",
    "    self.input_file = input_file\n",
    "    self.discretizition_factor = discretizition_factor\n",
    "    self.max_window_size = max_window_size\n",
    "\n",
    "\n",
    "  def create_window(self):\n",
    "\n",
    "    ecg_window = [] #ecg_window: list of windows\n",
    "\n",
    "    mlen=0\n",
    "    ecg_list = self.input_file['signal']\n",
    "    if len(ecg_list) > mlen:\n",
    "      mlen= len(ecg_list)\n",
    "\n",
    "    if mlen > self.max_window_size:\n",
    "      window_size = self.max_window_size\n",
    "    else:\n",
    "      window_size = mlen\n",
    "\n",
    "    num_lines = math.floor(len(ecg_list)/window_size) #in this case: 1\n",
    "\n",
    "    for i in range(num_lines):\n",
    "      tmp_list = ecg_list[i*window_size:(i+1)*window_size]\n",
    "      ecg_window.append(tmp_list)\n",
    "\n",
    "    return ecg_window\n",
    "\n",
    "  def change_to_alphabet(self, quantizer, normalized_list):\n",
    "    qtz_signal = []\n",
    "    qtz = quantizer\n",
    "    for i in range(len(normalized_list)): #i is for each line\n",
    "      r = qtz.perform_quantization(np.array(normalized_list[i]),breakpoints=qtz.breakpoints)\n",
    "      # print('result:',r.shape)\n",
    "      # make r from list of chars  to string a chars by ''.joint(r)\n",
    "      qtz_signal.append(''.join(r))\n",
    "\n",
    "    return qtz_signal"
   ]
  },
  {
   "cell_type": "code",
   "execution_count": 20,
   "id": "be5aa3b7",
   "metadata": {
    "execution": {
     "iopub.execute_input": "2025-06-09T17:39:26.880590Z",
     "iopub.status.busy": "2025-06-09T17:39:26.880283Z",
     "iopub.status.idle": "2025-06-09T17:39:26.884087Z",
     "shell.execute_reply": "2025-06-09T17:39:26.883531Z"
    },
    "papermill": {
     "duration": 0.164039,
     "end_time": "2025-06-09T17:39:26.885127",
     "exception": false,
     "start_time": "2025-06-09T17:39:26.721088",
     "status": "completed"
    },
    "tags": []
   },
   "outputs": [],
   "source": [
    "def discretization_lloyd_max(discretizition_factor, total_data):\n",
    "  qtz_signal = []\n",
    "  qtz=DiffQuantizer(alphabet_size=discretizition_factor,breakpoints=None,use_diffs=False)\n",
    "  qtz.learn_breakpoints(np.array(total_data))\n",
    "  return qtz"
   ]
  },
  {
   "cell_type": "code",
   "execution_count": 21,
   "id": "1d9bf536",
   "metadata": {
    "execution": {
     "iopub.execute_input": "2025-06-09T17:39:27.257995Z",
     "iopub.status.busy": "2025-06-09T17:39:27.257382Z",
     "iopub.status.idle": "2025-06-09T17:39:27.262881Z",
     "shell.execute_reply": "2025-06-09T17:39:27.262307Z"
    },
    "papermill": {
     "duration": 0.167371,
     "end_time": "2025-06-09T17:39:27.263901",
     "exception": false,
     "start_time": "2025-06-09T17:39:27.096530",
     "status": "completed"
    },
    "tags": []
   },
   "outputs": [],
   "source": [
    "def run_Preprocessing(db, max_window_size=4000, discretizition_factor=100):\n",
    "    discretizition_factor = discretizition_factor\n",
    "    max_window_size = max_window_size\n",
    "    nl_list, total_data = [], []\n",
    "    r_list = []\n",
    "\n",
    "    for n in range(len(db)):\n",
    "      pre = Preprocessing(db.loc[n], discretizition_factor, max_window_size)\n",
    "      nl = pre.create_window()\n",
    "      nl_list.append(nl)\n",
    "\n",
    "    for i in range(len(nl_list)):\n",
    "        total_data.extend(nl_list[i][0])\n",
    "\n",
    "    quantize_max_lloyd_on_total_data = discretization_lloyd_max(discretizition_factor, total_data)\n",
    "\n",
    "    for n in range(len(db)):\n",
    "      pre = Preprocessing(db.loc[n], discretizition_factor, max_window_size)\n",
    "      nl = pre.create_window()\n",
    "      r = pre.change_to_alphabet(quantize_max_lloyd_on_total_data, nl)\n",
    "      r_list.extend(r)\n",
    "    print(n, \" : done\")\n",
    "\n",
    "    return r_list"
   ]
  },
  {
   "cell_type": "code",
   "execution_count": 22,
   "id": "9bfb7ad8",
   "metadata": {
    "execution": {
     "iopub.execute_input": "2025-06-09T17:39:27.586609Z",
     "iopub.status.busy": "2025-06-09T17:39:27.585951Z",
     "iopub.status.idle": "2025-06-09T17:39:27.590518Z",
     "shell.execute_reply": "2025-06-09T17:39:27.589801Z"
    },
    "papermill": {
     "duration": 0.165924,
     "end_time": "2025-06-09T17:39:27.591681",
     "exception": false,
     "start_time": "2025-06-09T17:39:27.425757",
     "status": "completed"
    },
    "tags": []
   },
   "outputs": [
    {
     "name": "stdout",
     "output_type": "stream",
     "text": [
      "Before preprocessing:\n",
      "15182\n",
      "1265\n",
      "2531\n"
     ]
    }
   ],
   "source": [
    "print('Before preprocessing:')\n",
    "print(len(train_df))\n",
    "print(len(val_df))\n",
    "print(len(test_df))"
   ]
  },
  {
   "cell_type": "code",
   "execution_count": 23,
   "id": "41b32be0",
   "metadata": {
    "execution": {
     "iopub.execute_input": "2025-06-09T17:39:27.964484Z",
     "iopub.status.busy": "2025-06-09T17:39:27.964015Z",
     "iopub.status.idle": "2025-06-09T17:41:42.820947Z",
     "shell.execute_reply": "2025-06-09T17:41:42.820140Z"
    },
    "papermill": {
     "duration": 135.070019,
     "end_time": "2025-06-09T17:41:42.822055",
     "exception": false,
     "start_time": "2025-06-09T17:39:27.752036",
     "status": "completed"
    },
    "tags": []
   },
   "outputs": [
    {
     "name": "stdout",
     "output_type": "stream",
     "text": [
      "15181  : done\n",
      "1264  : done\n",
      "2530  : done\n"
     ]
    }
   ],
   "source": [
    "r_list_train = run_Preprocessing(db=train_df, max_window_size=4000, discretizition_factor=100)\n",
    "\n",
    "r_list_val = run_Preprocessing(db=val_df, max_window_size=4000, discretizition_factor=100)\n",
    "\n",
    "r_list_test = run_Preprocessing(db=test_df, max_window_size=4000, discretizition_factor=100)"
   ]
  },
  {
   "cell_type": "code",
   "execution_count": 24,
   "id": "cc5bdcbb",
   "metadata": {
    "execution": {
     "iopub.execute_input": "2025-06-09T17:41:43.151111Z",
     "iopub.status.busy": "2025-06-09T17:41:43.150225Z",
     "iopub.status.idle": "2025-06-09T17:41:43.154902Z",
     "shell.execute_reply": "2025-06-09T17:41:43.154153Z"
    },
    "papermill": {
     "duration": 0.170835,
     "end_time": "2025-06-09T17:41:43.156064",
     "exception": false,
     "start_time": "2025-06-09T17:41:42.985229",
     "status": "completed"
    },
    "tags": []
   },
   "outputs": [
    {
     "name": "stdout",
     "output_type": "stream",
     "text": [
      "After preprocessing:\n",
      "15182\n",
      "1265\n",
      "2531\n"
     ]
    }
   ],
   "source": [
    "print('After preprocessing:')\n",
    "print(len(r_list_train))\n",
    "print(len(r_list_val))\n",
    "print(len(r_list_test))"
   ]
  },
  {
   "cell_type": "code",
   "execution_count": 25,
   "id": "f79a7618",
   "metadata": {
    "execution": {
     "iopub.execute_input": "2025-06-09T17:41:43.477291Z",
     "iopub.status.busy": "2025-06-09T17:41:43.476808Z",
     "iopub.status.idle": "2025-06-09T17:41:43.490086Z",
     "shell.execute_reply": "2025-06-09T17:41:43.489323Z"
    },
    "papermill": {
     "duration": 0.174517,
     "end_time": "2025-06-09T17:41:43.491163",
     "exception": false,
     "start_time": "2025-06-09T17:41:43.316646",
     "status": "completed"
    },
    "tags": []
   },
   "outputs": [
    {
     "name": "stdout",
     "output_type": "stream",
     "text": [
      "(15182, 1)\n"
     ]
    },
    {
     "data": {
      "text/html": [
       "<div>\n",
       "<style scoped>\n",
       "    .dataframe tbody tr th:only-of-type {\n",
       "        vertical-align: middle;\n",
       "    }\n",
       "\n",
       "    .dataframe tbody tr th {\n",
       "        vertical-align: top;\n",
       "    }\n",
       "\n",
       "    .dataframe thead th {\n",
       "        text-align: right;\n",
       "    }\n",
       "</style>\n",
       "<table border=\"1\" class=\"dataframe\">\n",
       "  <thead>\n",
       "    <tr style=\"text-align: right;\">\n",
       "      <th></th>\n",
       "      <th>signal</th>\n",
       "    </tr>\n",
       "  </thead>\n",
       "  <tbody>\n",
       "    <tr>\n",
       "      <th>0</th>\n",
       "      <td>QTTUUVWXZ]^]\\\\[[[ZZZYZ[]^_``___```aa`^^bfkqw",
       "...</td>\n",
       "    </tr>\n",
       "    <tr>\n",
       "      <th>1</th>\n",
       "      <td>",
       "",
       "~ztopqsuwy{{{{zzzyy...</td>\n",
       "    </tr>\n",
       "    <tr>\n",
       "      <th>2</th>\n",
       "      <td>v~yohhhlry",
       "}ofa]ZWVUTTTW\\aca\\W...</td>\n",
       "    </tr>\n",
       "    <tr>\n",
       "      <th>3</th>\n",
       "      <td>        yrmgdbb`]YYZ[ZZZ\\[ZZ[...</td>\n",
       "    </tr>\n",
       "    <tr>\n",
       "      <th>4</th>\n",
       "      <td>_MOKKJJIIIKLMNPOLJIIHHHIKNQPONMMMNQX]accekt}...</td>\n",
       "    </tr>\n",
       "    <tr>\n",
       "      <th>5</th>\n",
       "      <td>}zxwxwusstsrqqqrtutuvwwwx...</td>\n",
       "    </tr>\n",
       "    <tr>\n",
       "      <th>6</th>\n",
       "      <td>[WUVWY\\djkidehebcgntohhnqrojlmifkvzuldfihfeghe...</td>\n",
       "    </tr>\n",
       "    <tr>\n",
       "      <th>7</th>\n",
       "      <td>FFFFFFFFGGGGGHJKMOPSUX[`ekptvwxxyz{|~",
       "",
       "...</td>\n",
       "    </tr>\n",
       "    <tr>\n",
       "      <th>8</th>\n",
       "      <td>XQPPPPPOOOPONMNNOOPQRSUUUTRRSUVWWWWXXXXXXXXXWV...</td>\n",
       "    </tr>\n",
       "    <tr>\n",
       "      <th>9</th>\n",
       "      <td>VNOMOPQOPRTSQPRSTQPRTTSQSUUTTTTTRSTVXWXYYWUUXZ...</td>\n",
       "    </tr>\n",
       "  </tbody>\n",
       "</table>\n",
       "</div>"
      ],
      "text/plain": [
       "                                              signal\n",
       "0  QTTUUVWXZ]^]\\\\[[[ZZZYZ[]^_``___```aa`^^bfkqw\n",
       "...\n",
       "1  \n",
       "\n",
       "~ztopqsuwy{{{{zzzyy...\n",
       "2  v~yohhhlry\n",
       "}ofa]ZWVUTTTW\\aca\\W...\n",
       "3          yrmgdbb`]YYZ[ZZZ\\[ZZ[...\n",
       "4  _MOKKJJIIIKLMNPOLJIIHHHIKNQPONMMMNQX]accekt}...\n",
       "5  }zxwxwusstsrqqqrtutuvwwwx...\n",
       "6  [WUVWY\\djkidehebcgntohhnqrojlmifkvzuldfihfeghe...\n",
       "7  FFFFFFFFGGGGGHJKMOPSUX[`ekptvwxxyz{|~\n",
       "\n",
       "...\n",
       "8  XQPPPPPOOOPONMNNOOPQRSUUUTRRSUVWWWWXXXXXXXXXWV...\n",
       "9  VNOMOPQOPRTSQPRSTQPRTTSQSUUTTTTTRSTVXWXYYWUUXZ..."
      ]
     },
     "execution_count": 25,
     "metadata": {},
     "output_type": "execute_result"
    }
   ],
   "source": [
    "ecg_train = pd.DataFrame(r_list_train, columns=['signal'])\n",
    "ecg_val = pd.DataFrame(r_list_val, columns=['signal'])\n",
    "ecg_test = pd.DataFrame(r_list_test, columns=['signal'])\n",
    "print(ecg_train.shape)\n",
    "ecg_train.head(10)"
   ]
  },
  {
   "cell_type": "code",
   "execution_count": 26,
   "id": "25e91634",
   "metadata": {
    "execution": {
     "iopub.execute_input": "2025-06-09T17:41:43.894051Z",
     "iopub.status.busy": "2025-06-09T17:41:43.893343Z",
     "iopub.status.idle": "2025-06-09T17:41:44.675445Z",
     "shell.execute_reply": "2025-06-09T17:41:44.674675Z"
    },
    "papermill": {
     "duration": 1.015125,
     "end_time": "2025-06-09T17:41:44.676896",
     "exception": false,
     "start_time": "2025-06-09T17:41:43.661771",
     "status": "completed"
    },
    "tags": []
   },
   "outputs": [],
   "source": [
    "ecg_train.to_csv('ecg_train.csv', sep='\\t', index=False)\n",
    "ecg_val.to_csv('ecg_val.csv', sep='\\t', index=False)\n",
    "ecg_test.to_csv('ecg_test.csv', sep='\\t', index=False)"
   ]
  },
  {
   "cell_type": "code",
   "execution_count": null,
   "id": "fde3c3e3",
   "metadata": {
    "papermill": {
     "duration": 0.160785,
     "end_time": "2025-06-09T17:41:45.002037",
     "exception": false,
     "start_time": "2025-06-09T17:41:44.841252",
     "status": "completed"
    },
    "tags": []
   },
   "outputs": [],
   "source": []
  }
 ],
 "metadata": {
  "kaggle": {
   "accelerator": "gpu",
   "dataSources": [
    {
     "datasetId": 1136210,
     "sourceId": 1905968,
     "sourceType": "datasetVersion"
    },
    {
     "datasetId": 7467563,
     "sourceId": 11883994,
     "sourceType": "datasetVersion"
    },
    {
     "datasetId": 7267352,
     "sourceId": 12036167,
     "sourceType": "datasetVersion"
    }
   ],
   "dockerImageVersionId": 31011,
   "isGpuEnabled": true,
   "isInternetEnabled": true,
   "language": "python",
   "sourceType": "notebook"
  },
  "kernelspec": {
   "display_name": "Python 3",
   "language": "python",
   "name": "python3"
  },
  "language_info": {
   "codemirror_mode": {
    "name": "ipython",
    "version": 3
   },
   "file_extension": ".py",
   "mimetype": "text/x-python",
   "name": "python",
   "nbconvert_exporter": "python",
   "pygments_lexer": "ipython3",
   "version": "3.11.11"
  },
  "papermill": {
   "default_parameters": {},
   "duration": 772.499572,
   "end_time": "2025-06-09T17:41:47.589770",
   "environment_variables": {},
   "exception": null,
   "input_path": "__notebook__.ipynb",
   "output_path": "__notebook__.ipynb",
   "parameters": {},
   "start_time": "2025-06-09T17:28:55.090198",
   "version": "2.6.0"
  }
 },
 "nbformat": 4,
 "nbformat_minor": 5
}
